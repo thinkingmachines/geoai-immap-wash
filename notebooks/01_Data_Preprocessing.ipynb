{
 "cells": [
  {
   "cell_type": "markdown",
   "metadata": {},
   "source": [
    "This notebook collects key steps taken to produce the training dataset that:\n",
    "* is aggregated to 1x1sqkm (from by block data)\n",
    "* has POI features as surfaces\n",
    "* has features for urban area characteristics"
   ]
  },
  {
   "cell_type": "markdown",
   "metadata": {
    "colab_type": "text",
    "id": "2OT-9FcR7Ry2"
   },
   "source": [
    "## dependencies"
   ]
  },
  {
   "cell_type": "code",
   "execution_count": 1,
   "metadata": {
    "colab": {},
    "colab_type": "code",
    "id": "X7BTqHhA7TFT"
   },
   "outputs": [],
   "source": [
    "# !pip install -q rasterio geopandas\n",
    "\n",
    "import pandas as pd\n",
    "import numpy as np\n",
    "import pathlib\n",
    "import rasterio as rio\n",
    "import geopandas as gpd\n",
    "from shapely.wkt import loads\n",
    "from tqdm import tqdm\n",
    "import re\n",
    "import sys\n",
    "sys.path.insert(0, '../utils')\n",
    "\n",
    "import geoutils\n",
    "import bqutils"
   ]
  },
  {
   "cell_type": "code",
   "execution_count": 2,
   "metadata": {},
   "outputs": [],
   "source": [
    "def clean_name(text):\n",
    "    return re.sub('[^a-z ]','', text.lower()).replace(' ', '_')"
   ]
  },
  {
   "cell_type": "markdown",
   "metadata": {
    "colab_type": "text",
    "id": "NNddvmMXRGn-"
   },
   "source": [
    "## workspace"
   ]
  },
  {
   "cell_type": "code",
   "execution_count": 3,
   "metadata": {
    "colab": {},
    "colab_type": "code",
    "id": "QHczHIMKMEJe"
   },
   "outputs": [],
   "source": [
    "data_dir = '../data/'\n",
    "feats_dir = data_dir + 'features/'\n",
    "inds_dir = data_dir + 'indicators/'\n",
    "\n",
    "dirs = [feats_dir, inds_dir]\n",
    "for dir_ in dirs:\n",
    "    with pathlib.Path(dir_) as path:\n",
    "        if not path.exists():\n",
    "            path.mkdir(parents=True, exist_ok=True)"
   ]
  },
  {
   "cell_type": "code",
   "execution_count": 4,
   "metadata": {
    "colab": {},
    "colab_type": "code",
    "id": "41BdmNK0KjPL"
   },
   "outputs": [],
   "source": [
    "features = [\n",
    "    'vegetation',\n",
    "    'aridity_cgiarv2',\n",
    "    'temperature',\n",
    "    'nighttime_lights',\n",
    "    'population',\n",
    "    'elevation',\n",
    "    'urban_index',\n",
    "    'nearest_highway',\n",
    "]\n",
    "\n",
    "area = 'colombia'\n",
    "\n",
    "BBOX = [-73.17020892181104, 11.560920839000062, -72.52724612099996, 10.948171764015513]"
   ]
  },
  {
   "cell_type": "markdown",
   "metadata": {
    "colab_type": "text",
    "id": "3iMEE-xY7Mmq"
   },
   "source": [
    "## data"
   ]
  },
  {
   "cell_type": "code",
   "execution_count": null,
   "metadata": {
    "colab": {
     "base_uri": "https://localhost:8080/",
     "height": 70
    },
    "colab_type": "code",
    "executionInfo": {
     "elapsed": 7295,
     "status": "ok",
     "timestamp": 1595560313500,
     "user": {
      "displayName": "Niccolo Dejito",
      "photoUrl": "",
      "userId": "13853625020392332200"
     },
     "user_tz": -480
    },
    "id": "Jw8op94JzMyC",
    "outputId": "13f5a48d-fb99-4871-dfe9-2014f443edd7"
   },
   "outputs": [],
   "source": [
    "!gsutil -m cp gs://immap-wash-training/features/2018_{area}_*.tif {feats_dir}\n",
    "!gsutil cp gs://immap-wash-training/features/urban_area_features.csv {feats_dir}\n",
    "!gsutil cp gs://immap-masks/admin_boundaries/admin_bounds.gpkg {feats_dir}\n",
    "!gsutil cp gs://immap-wash-training/indicators/Manzanas_urbano.zip {feats_dir}\n",
    "!unzip {feats_dir}Manzanas_urbano.zip"
   ]
  },
  {
   "cell_type": "markdown",
   "metadata": {
    "colab_type": "text",
    "id": "t8hhj2AD7n4R"
   },
   "source": [
    "## indicators"
   ]
  },
  {
   "cell_type": "code",
   "execution_count": 7,
   "metadata": {},
   "outputs": [
    {
     "name": "stdout",
     "output_type": "stream",
     "text": [
      "Copying gs://immap-wash-training/indicators/indicator_labelled_grid.csv...\n",
      "/ [1 files][  3.8 MiB/  3.8 MiB]                                                \n",
      "Operation completed over 1 objects/3.8 MiB.                                      \n"
     ]
    }
   ],
   "source": [
    "blocks = gpd.read_file(feats_dir + 'Manzanas_urbano/Manzanas_urbano.shp')\n",
    "adm = gpd.read_file(feats_dir + 'admin_bounds.gpkg', driver = 'GPKG')\n",
    "geoutils.generate_blocks_geopackage(blocks, adm)\n",
    "bqutils.run_sql('../scripts/indicator_labelled_grid.sql')\n",
    "\n",
    "!gsutil cp gs://immap-wash-training/indicators/indicator_labelled_grid.csv {inds_dir}\n",
    "df = pd.read_csv(inds_dir + 'indicator_labelled_grid.csv')\n",
    "df['centroid_geometry'] = df['centroid_geometry'].apply(loads)\n",
    "gdf = gpd.GeoDataFrame(df, geometry='centroid_geometry').set_crs('EPSG:4326')"
   ]
  },
  {
   "cell_type": "markdown",
   "metadata": {
    "colab_type": "text",
    "id": "04Ffp3RLCcpe"
   },
   "source": [
    "## features"
   ]
  },
  {
   "cell_type": "code",
   "execution_count": 9,
   "metadata": {},
   "outputs": [],
   "source": [
    "# points of interest - generate surfaces\n",
    "pois = ['waterway', 'commercial', 'restaurant', 'hospital', 'airport']#'road',\n",
    "\n",
    "depts = get_depts()\n",
    "for poi in pois:\n",
    "    print(f'Processing {poi}')\n",
    "    geoutils.process_by_dept(poi)\n",
    "    \n",
    "poi_features = ['clipped_nearest_' + poi for poi in pois]"
   ]
  },
  {
   "cell_type": "code",
   "execution_count": 10,
   "metadata": {
    "colab": {},
    "colab_type": "code",
    "id": "9ELO-5lNRvnd"
   },
   "outputs": [
    {
     "name": "stderr",
     "output_type": "stream",
     "text": [
      "100%|██████████| 13/13 [00:33<00:00,  2.54s/it]\n"
     ]
    }
   ],
   "source": [
    "# satellite image derived - pierce through rasters\n",
    "geom_col = 'centroid_geometry'\n",
    "\n",
    "for feature in tqdm(poi_features + features):\n",
    "    tif_file = feats_dir + f'2018_{area}_{feature}.tif'\n",
    "    raster = rio.open(tif_file)\n",
    "\n",
    "    # Perform point sampling\n",
    "    pxl = []\n",
    "    for index, row in gdf.iterrows():\n",
    "        for val in raster.sample([(row[geom_col].x, row[geom_col].y)]):\n",
    "            pxl.append(val[0])\n",
    "\n",
    "    # Add column to geodataframe\n",
    "    col_name = feature.replace('clipped_','')\n",
    "    gdf[col_name] = pxl"
   ]
  },
  {
   "cell_type": "code",
   "execution_count": 11,
   "metadata": {},
   "outputs": [],
   "source": [
    "# urban area features - join to existing\n",
    "bqutils.run_sql('../scripts/urban_area_features.sql')\n",
    "ua_feats = pd.read_csv(feats_dir + 'urban_area_features.csv')"
   ]
  },
  {
   "cell_type": "code",
   "execution_count": 18,
   "metadata": {},
   "outputs": [
    {
     "name": "stdout",
     "output_type": "stream",
     "text": [
      "(7574, 50)\n"
     ]
    },
    {
     "data": {
      "text/html": [
       "<div>\n",
       "<style scoped>\n",
       "    .dataframe tbody tr th:only-of-type {\n",
       "        vertical-align: middle;\n",
       "    }\n",
       "\n",
       "    .dataframe tbody tr th {\n",
       "        vertical-align: top;\n",
       "    }\n",
       "\n",
       "    .dataframe thead th {\n",
       "        text-align: right;\n",
       "    }\n",
       "</style>\n",
       "<table border=\"1\" class=\"dataframe\">\n",
       "  <thead>\n",
       "    <tr style=\"text-align: right;\">\n",
       "      <th></th>\n",
       "      <th>pixelated_urban_area_id</th>\n",
       "      <th>id</th>\n",
       "      <th>geometry</th>\n",
       "      <th>perc_hh_no_toilet</th>\n",
       "      <th>perc_hh_no_water_supply</th>\n",
       "      <th>perc_hh_no_sewage</th>\n",
       "      <th>d_mc_basur</th>\n",
       "      <th>d_mc_aguac</th>\n",
       "      <th>d_mc_freq_</th>\n",
       "      <th>d_mc_pare</th>\n",
       "      <th>...</th>\n",
       "      <th>population</th>\n",
       "      <th>elevation</th>\n",
       "      <th>urban_index</th>\n",
       "      <th>nearest_highway</th>\n",
       "      <th>distance_from_capital</th>\n",
       "      <th>distance_from_capital_outskirts</th>\n",
       "      <th>distance_between_muni_centers</th>\n",
       "      <th>pixelated_urban_area_size</th>\n",
       "      <th>distance_to_nearest_pixelated_urban_area</th>\n",
       "      <th>nighttime_lights_area_mean</th>\n",
       "    </tr>\n",
       "  </thead>\n",
       "  <tbody>\n",
       "    <tr>\n",
       "      <th>0</th>\n",
       "      <td>862.0</td>\n",
       "      <td>417475</td>\n",
       "      <td>POLYGON((-75.5123828117681 5.05751500688412, -...</td>\n",
       "      <td>0.018677</td>\n",
       "      <td>0.020431</td>\n",
       "      <td>0.030647</td>\n",
       "      <td>0.029925</td>\n",
       "      <td>0.150449</td>\n",
       "      <td>0.793726</td>\n",
       "      <td>0.221855</td>\n",
       "      <td>...</td>\n",
       "      <td>76.771713</td>\n",
       "      <td>2063</td>\n",
       "      <td>32</td>\n",
       "      <td>470.793030</td>\n",
       "      <td>10251.838386</td>\n",
       "      <td>10154.580433</td>\n",
       "      <td>9660.230132</td>\n",
       "      <td>7.354714e+07</td>\n",
       "      <td>12695.981675</td>\n",
       "      <td>23.124894</td>\n",
       "    </tr>\n",
       "    <tr>\n",
       "      <th>1</th>\n",
       "      <td>83.0</td>\n",
       "      <td>187318</td>\n",
       "      <td>POLYGON((-76.4376475501431 7.23143798441016, -...</td>\n",
       "      <td>0.190164</td>\n",
       "      <td>0.213115</td>\n",
       "      <td>0.209836</td>\n",
       "      <td>0.062295</td>\n",
       "      <td>0.409836</td>\n",
       "      <td>0.760656</td>\n",
       "      <td>0.501639</td>\n",
       "      <td>...</td>\n",
       "      <td>1.665961</td>\n",
       "      <td>143</td>\n",
       "      <td>0</td>\n",
       "      <td>105.946838</td>\n",
       "      <td>150053.615153</td>\n",
       "      <td>149554.285795</td>\n",
       "      <td>11411.026229</td>\n",
       "      <td>3.959241e+06</td>\n",
       "      <td>33205.349418</td>\n",
       "      <td>0.808125</td>\n",
       "    </tr>\n",
       "  </tbody>\n",
       "</table>\n",
       "<p>2 rows × 50 columns</p>\n",
       "</div>"
      ],
      "text/plain": [
       "   pixelated_urban_area_id      id  \\\n",
       "0                    862.0  417475   \n",
       "1                     83.0  187318   \n",
       "\n",
       "                                            geometry  perc_hh_no_toilet  \\\n",
       "0  POLYGON((-75.5123828117681 5.05751500688412, -...           0.018677   \n",
       "1  POLYGON((-76.4376475501431 7.23143798441016, -...           0.190164   \n",
       "\n",
       "   perc_hh_no_water_supply  perc_hh_no_sewage  d_mc_basur  d_mc_aguac  \\\n",
       "0                 0.020431           0.030647    0.029925    0.150449   \n",
       "1                 0.213115           0.209836    0.062295    0.409836   \n",
       "\n",
       "   d_mc_freq_  d_mc_pare  ...  population  elevation  urban_index  \\\n",
       "0    0.793726   0.221855  ...   76.771713       2063           32   \n",
       "1    0.760656   0.501639  ...    1.665961        143            0   \n",
       "\n",
       "   nearest_highway  distance_from_capital  distance_from_capital_outskirts  \\\n",
       "0       470.793030           10251.838386                     10154.580433   \n",
       "1       105.946838          150053.615153                    149554.285795   \n",
       "\n",
       "   distance_between_muni_centers  pixelated_urban_area_size  \\\n",
       "0                    9660.230132               7.354714e+07   \n",
       "1                   11411.026229               3.959241e+06   \n",
       "\n",
       "   distance_to_nearest_pixelated_urban_area  nighttime_lights_area_mean  \n",
       "0                              12695.981675                   23.124894  \n",
       "1                              33205.349418                    0.808125  \n",
       "\n",
       "[2 rows x 50 columns]"
      ]
     },
     "execution_count": 18,
     "metadata": {},
     "output_type": "execute_result"
    }
   ],
   "source": [
    "# merge 2 datasets\n",
    "df = pd.merge(gdf, ua_feats, how = 'left', on = 'id')\n",
    "\n",
    "# add night time lights mean\n",
    "mean_col = df.groupby('pixelated_urban_area_id')['nighttime_lights'].mean() # don't reset the index!\n",
    "df = df.set_index('pixelated_urban_area_id') # make the same index here\n",
    "df['nighttime_lights_area_mean'] = mean_col\n",
    "\n",
    "train_df = df.reset_index()\n",
    "print(train_df.shape)\n",
    "train_df.head(2)"
   ]
  },
  {
   "cell_type": "code",
   "execution_count": 22,
   "metadata": {},
   "outputs": [
    {
     "name": "stdout",
     "output_type": "stream",
     "text": [
      "Copying file://../data/20200811_dataset.csv [Content-Type=text/csv]...\n",
      "/ [1 files][  5.7 MiB/  5.7 MiB]                                                \n",
      "Operation completed over 1 objects/5.7 MiB.                                      \n"
     ]
    }
   ],
   "source": [
    "train_df.to_csv(data_dir + '20200811_dataset.csv', index = False)\n",
    "!gsutil cp {data_dir}20200811_dataset.csv gs://immap-wash-training/training/"
   ]
  },
  {
   "cell_type": "markdown",
   "metadata": {
    "colab_type": "text",
    "id": "vPf60O85oKZi"
   },
   "source": [
    "## impute"
   ]
  },
  {
   "cell_type": "markdown",
   "metadata": {},
   "source": [
    "For blank pixels, use median of admin1 (1834 pixels, 12%)"
   ]
  },
  {
   "cell_type": "code",
   "execution_count": null,
   "metadata": {
    "colab": {
     "base_uri": "https://localhost:8080/",
     "height": 68
    },
    "colab_type": "code",
    "executionInfo": {
     "elapsed": 4146,
     "status": "ok",
     "timestamp": 1595759186391,
     "user": {
      "displayName": "Niccolo Dejito",
      "photoUrl": "",
      "userId": "13853625020392332200"
     },
     "user_tz": -480
    },
    "id": "QHqVFw5uhJBV",
    "outputId": "e4045fde-4085-4cec-ab8b-368a22bec053"
   },
   "outputs": [],
   "source": [
    "# https://stackoverflow.com/questions/19966018/pandas-filling-missing-values-by-mean-in-each-group\n",
    "impute_cols = [\n",
    "    'vegetation',\n",
    "    'aridity',\n",
    "    'temperature',\n",
    "]\n",
    "\n",
    "for col in impute_cols:\n",
    "    df[col] = df.groupby(\"adm1_name\")[col].transform(lambda x: x.fillna(x.median()))\n",
    "\n",
    "# format for r-inla code\n",
    "df['adm1_name_cln'] = df['adm1_name'].apply(clean_name)\n",
    "df.rename(columns={'left': 'x', 'top': 'y'}, inplace=True)\n",
    "\n",
    "df.to_csv('20200811_dataset.csv', index = False)\n",
    "!gsutil cp 20200811_dataset.csv gs://immap-wash-training/training/"
   ]
  },
  {
   "cell_type": "markdown",
   "metadata": {
    "colab_type": "text",
    "id": "HoQXVcHm7vbQ"
   },
   "source": [
    "## checks"
   ]
  },
  {
   "cell_type": "code",
   "execution_count": null,
   "metadata": {
    "colab": {
     "base_uri": "https://localhost:8080/",
     "height": 34
    },
    "colab_type": "code",
    "executionInfo": {
     "elapsed": 1190,
     "status": "ok",
     "timestamp": 1595562584129,
     "user": {
      "displayName": "Niccolo Dejito",
      "photoUrl": "",
      "userId": "13853625020392332200"
     },
     "user_tz": -480
    },
    "id": "i3fI41uK8L09",
    "outputId": "425caa3d-94c8-4336-94d1-9f3cfda785bc"
   },
   "outputs": [
    {
     "data": {
      "text/plain": [
       "0.868280327864833"
      ]
     },
     "execution_count": 60,
     "metadata": {
      "tags": []
     },
     "output_type": "execute_result"
    }
   ],
   "source": [
    "354129/407851 # fill rate"
   ]
  },
  {
   "cell_type": "code",
   "execution_count": null,
   "metadata": {
    "colab": {
     "base_uri": "https://localhost:8080/",
     "height": 68
    },
    "colab_type": "code",
    "executionInfo": {
     "elapsed": 926,
     "status": "ok",
     "timestamp": 1595693718111,
     "user": {
      "displayName": "Niccolo Dejito",
      "photoUrl": "",
      "userId": "13853625020392332200"
     },
     "user_tz": -480
    },
    "id": "ZAUlFLiFv3eV",
    "outputId": "9fc31530-cb46-4dcd-fd84-643b5991b74b"
   },
   "outputs": [
    {
     "name": "stdout",
     "output_type": "stream",
     "text": [
      "0.6969805823869663\n",
      "0.78861248214513\n",
      "0.707035879449575\n"
     ]
    }
   ],
   "source": [
    "indicators = [\n",
    "    'perc_hh_no_toilet',\n",
    "    'perc_hh_no_water_supply',\n",
    "    'perc_hh_no_sewage',\n",
    "]\n",
    "\n",
    "for i in indicators:\n",
    "    print(sum(gdf2[i] == 0.0)/gdf2.shape[0])"
   ]
  },
  {
   "cell_type": "code",
   "execution_count": null,
   "metadata": {
    "colab": {
     "base_uri": "https://localhost:8080/",
     "height": 979
    },
    "colab_type": "code",
    "executionInfo": {
     "elapsed": 1302,
     "status": "ok",
     "timestamp": 1595693455589,
     "user": {
      "displayName": "Niccolo Dejito",
      "photoUrl": "",
      "userId": "13853625020392332200"
     },
     "user_tz": -480
    },
    "id": "8MhRjsrf2QUu",
    "outputId": "c0179033-ea31-4efb-bf6d-6d53bb1cd6ab"
   },
   "outputs": [
    {
     "data": {
      "text/html": [
       "<div>\n",
       "<style scoped>\n",
       "    .dataframe tbody tr th:only-of-type {\n",
       "        vertical-align: middle;\n",
       "    }\n",
       "\n",
       "    .dataframe tbody tr th {\n",
       "        vertical-align: top;\n",
       "    }\n",
       "\n",
       "    .dataframe thead th {\n",
       "        text-align: right;\n",
       "    }\n",
       "</style>\n",
       "<table border=\"1\" class=\"dataframe\">\n",
       "  <thead>\n",
       "    <tr style=\"text-align: right;\">\n",
       "      <th></th>\n",
       "      <th>count</th>\n",
       "      <th>mean</th>\n",
       "      <th>std</th>\n",
       "      <th>min</th>\n",
       "      <th>25%</th>\n",
       "      <th>50%</th>\n",
       "      <th>75%</th>\n",
       "      <th>max</th>\n",
       "    </tr>\n",
       "  </thead>\n",
       "  <tbody>\n",
       "    <tr>\n",
       "      <th>ipm</th>\n",
       "      <td>353545.0</td>\n",
       "      <td>22.348797</td>\n",
       "      <td>22.379941</td>\n",
       "      <td>0.0</td>\n",
       "      <td>4.938272</td>\n",
       "      <td>15.789474</td>\n",
       "      <td>33.333333</td>\n",
       "      <td>100.0</td>\n",
       "    </tr>\n",
       "    <tr>\n",
       "      <th>d_u_dpto</th>\n",
       "      <td>353545.0</td>\n",
       "      <td>36.835956</td>\n",
       "      <td>26.973339</td>\n",
       "      <td>5.0</td>\n",
       "      <td>11.000000</td>\n",
       "      <td>25.000000</td>\n",
       "      <td>66.000000</td>\n",
       "      <td>99.0</td>\n",
       "    </tr>\n",
       "    <tr>\n",
       "      <th>d_u_mpio</th>\n",
       "      <td>353545.0</td>\n",
       "      <td>247.589625</td>\n",
       "      <td>291.055329</td>\n",
       "      <td>1.0</td>\n",
       "      <td>1.000000</td>\n",
       "      <td>109.000000</td>\n",
       "      <td>470.000000</td>\n",
       "      <td>980.0</td>\n",
       "    </tr>\n",
       "    <tr>\n",
       "      <th>d_ua_clase</th>\n",
       "      <td>353545.0</td>\n",
       "      <td>1.000000</td>\n",
       "      <td>0.000000</td>\n",
       "      <td>1.0</td>\n",
       "      <td>1.000000</td>\n",
       "      <td>1.000000</td>\n",
       "      <td>1.000000</td>\n",
       "      <td>1.0</td>\n",
       "    </tr>\n",
       "    <tr>\n",
       "      <th>d_c_sanita</th>\n",
       "      <td>353545.0</td>\n",
       "      <td>0.980981</td>\n",
       "      <td>3.800692</td>\n",
       "      <td>0.0</td>\n",
       "      <td>0.000000</td>\n",
       "      <td>0.000000</td>\n",
       "      <td>1.000000</td>\n",
       "      <td>348.0</td>\n",
       "    </tr>\n",
       "    <tr>\n",
       "      <th>d_c_acuedu</th>\n",
       "      <td>353545.0</td>\n",
       "      <td>1.279967</td>\n",
       "      <td>5.593081</td>\n",
       "      <td>0.0</td>\n",
       "      <td>0.000000</td>\n",
       "      <td>0.000000</td>\n",
       "      <td>0.000000</td>\n",
       "      <td>422.0</td>\n",
       "    </tr>\n",
       "    <tr>\n",
       "      <th>d_c_alcant</th>\n",
       "      <td>353545.0</td>\n",
       "      <td>2.386372</td>\n",
       "      <td>7.688756</td>\n",
       "      <td>0.0</td>\n",
       "      <td>0.000000</td>\n",
       "      <td>0.000000</td>\n",
       "      <td>1.000000</td>\n",
       "      <td>463.0</td>\n",
       "    </tr>\n",
       "    <tr>\n",
       "      <th>d_c_basura</th>\n",
       "      <td>353545.0</td>\n",
       "      <td>1.055840</td>\n",
       "      <td>4.354098</td>\n",
       "      <td>0.0</td>\n",
       "      <td>0.000000</td>\n",
       "      <td>0.000000</td>\n",
       "      <td>0.000000</td>\n",
       "      <td>259.0</td>\n",
       "    </tr>\n",
       "    <tr>\n",
       "      <th>d_c_aguaco</th>\n",
       "      <td>353545.0</td>\n",
       "      <td>7.319617</td>\n",
       "      <td>17.623938</td>\n",
       "      <td>0.0</td>\n",
       "      <td>1.000000</td>\n",
       "      <td>4.000000</td>\n",
       "      <td>8.000000</td>\n",
       "      <td>3669.0</td>\n",
       "    </tr>\n",
       "    <tr>\n",
       "      <th>d_c_freq_b</th>\n",
       "      <td>353545.0</td>\n",
       "      <td>9.933842</td>\n",
       "      <td>24.814910</td>\n",
       "      <td>0.0</td>\n",
       "      <td>0.000000</td>\n",
       "      <td>2.000000</td>\n",
       "      <td>11.000000</td>\n",
       "      <td>1965.0</td>\n",
       "    </tr>\n",
       "    <tr>\n",
       "      <th>d_c_pared</th>\n",
       "      <td>353545.0</td>\n",
       "      <td>6.135966</td>\n",
       "      <td>16.213781</td>\n",
       "      <td>0.0</td>\n",
       "      <td>1.000000</td>\n",
       "      <td>3.000000</td>\n",
       "      <td>7.000000</td>\n",
       "      <td>3668.0</td>\n",
       "    </tr>\n",
       "    <tr>\n",
       "      <th>d_c_piso</th>\n",
       "      <td>353545.0</td>\n",
       "      <td>13.388214</td>\n",
       "      <td>595.909506</td>\n",
       "      <td>0.0</td>\n",
       "      <td>4.000000</td>\n",
       "      <td>8.000000</td>\n",
       "      <td>16.000000</td>\n",
       "      <td>354129.0</td>\n",
       "    </tr>\n",
       "    <tr>\n",
       "      <th>d_c_electr</th>\n",
       "      <td>353545.0</td>\n",
       "      <td>0.239076</td>\n",
       "      <td>1.776059</td>\n",
       "      <td>0.0</td>\n",
       "      <td>0.000000</td>\n",
       "      <td>0.000000</td>\n",
       "      <td>0.000000</td>\n",
       "      <td>302.0</td>\n",
       "    </tr>\n",
       "    <tr>\n",
       "      <th>d_c_hacina</th>\n",
       "      <td>353545.0</td>\n",
       "      <td>8.591591</td>\n",
       "      <td>17.095239</td>\n",
       "      <td>0.0</td>\n",
       "      <td>3.000000</td>\n",
       "      <td>6.000000</td>\n",
       "      <td>10.000000</td>\n",
       "      <td>3669.0</td>\n",
       "    </tr>\n",
       "    <tr>\n",
       "      <th>d_c_cocina</th>\n",
       "      <td>353545.0</td>\n",
       "      <td>9.095416</td>\n",
       "      <td>19.055361</td>\n",
       "      <td>0.0</td>\n",
       "      <td>2.000000</td>\n",
       "      <td>5.000000</td>\n",
       "      <td>11.000000</td>\n",
       "      <td>3702.0</td>\n",
       "    </tr>\n",
       "    <tr>\n",
       "      <th>d_c_gas</th>\n",
       "      <td>353545.0</td>\n",
       "      <td>5.599553</td>\n",
       "      <td>11.569124</td>\n",
       "      <td>0.0</td>\n",
       "      <td>0.000000</td>\n",
       "      <td>2.000000</td>\n",
       "      <td>6.000000</td>\n",
       "      <td>648.0</td>\n",
       "    </tr>\n",
       "    <tr>\n",
       "      <th>d_hogares</th>\n",
       "      <td>353545.0</td>\n",
       "      <td>36.059871</td>\n",
       "      <td>59.454612</td>\n",
       "      <td>1.0</td>\n",
       "      <td>13.000000</td>\n",
       "      <td>24.000000</td>\n",
       "      <td>41.000000</td>\n",
       "      <td>4635.0</td>\n",
       "    </tr>\n",
       "    <tr>\n",
       "      <th>perc_hh_no_toilet</th>\n",
       "      <td>353545.0</td>\n",
       "      <td>3.758998</td>\n",
       "      <td>11.200761</td>\n",
       "      <td>0.0</td>\n",
       "      <td>0.000000</td>\n",
       "      <td>0.000000</td>\n",
       "      <td>2.000000</td>\n",
       "      <td>100.0</td>\n",
       "    </tr>\n",
       "    <tr>\n",
       "      <th>perc_hh_no_water_supply</th>\n",
       "      <td>353545.0</td>\n",
       "      <td>5.575780</td>\n",
       "      <td>17.244857</td>\n",
       "      <td>0.0</td>\n",
       "      <td>0.000000</td>\n",
       "      <td>0.000000</td>\n",
       "      <td>0.000000</td>\n",
       "      <td>100.0</td>\n",
       "    </tr>\n",
       "    <tr>\n",
       "      <th>perc_hh_no_sewage</th>\n",
       "      <td>353545.0</td>\n",
       "      <td>11.099294</td>\n",
       "      <td>25.835597</td>\n",
       "      <td>0.0</td>\n",
       "      <td>0.000000</td>\n",
       "      <td>0.000000</td>\n",
       "      <td>3.000000</td>\n",
       "      <td>100.0</td>\n",
       "    </tr>\n",
       "    <tr>\n",
       "      <th>d_mc_basur</th>\n",
       "      <td>353545.0</td>\n",
       "      <td>5.131924</td>\n",
       "      <td>16.559876</td>\n",
       "      <td>0.0</td>\n",
       "      <td>0.000000</td>\n",
       "      <td>0.000000</td>\n",
       "      <td>0.000000</td>\n",
       "      <td>100.0</td>\n",
       "    </tr>\n",
       "    <tr>\n",
       "      <th>d_mc_aguac</th>\n",
       "      <td>353545.0</td>\n",
       "      <td>25.823479</td>\n",
       "      <td>28.091361</td>\n",
       "      <td>0.0</td>\n",
       "      <td>7.000000</td>\n",
       "      <td>16.000000</td>\n",
       "      <td>32.000000</td>\n",
       "      <td>100.0</td>\n",
       "    </tr>\n",
       "    <tr>\n",
       "      <th>d_mc_freq_</th>\n",
       "      <td>353545.0</td>\n",
       "      <td>30.036850</td>\n",
       "      <td>36.935268</td>\n",
       "      <td>0.0</td>\n",
       "      <td>0.000000</td>\n",
       "      <td>8.000000</td>\n",
       "      <td>71.000000</td>\n",
       "      <td>100.0</td>\n",
       "    </tr>\n",
       "    <tr>\n",
       "      <th>d_mc_pared</th>\n",
       "      <td>353545.0</td>\n",
       "      <td>22.082898</td>\n",
       "      <td>25.175845</td>\n",
       "      <td>0.0</td>\n",
       "      <td>5.000000</td>\n",
       "      <td>14.000000</td>\n",
       "      <td>29.000000</td>\n",
       "      <td>100.0</td>\n",
       "    </tr>\n",
       "    <tr>\n",
       "      <th>d_mc_piso</th>\n",
       "      <td>353545.0</td>\n",
       "      <td>47.661474</td>\n",
       "      <td>1083.291707</td>\n",
       "      <td>0.0</td>\n",
       "      <td>16.000000</td>\n",
       "      <td>40.000000</td>\n",
       "      <td>75.000000</td>\n",
       "      <td>643871.0</td>\n",
       "    </tr>\n",
       "    <tr>\n",
       "      <th>d_mc_elect</th>\n",
       "      <td>353545.0</td>\n",
       "      <td>1.027312</td>\n",
       "      <td>5.663606</td>\n",
       "      <td>0.0</td>\n",
       "      <td>0.000000</td>\n",
       "      <td>0.000000</td>\n",
       "      <td>0.000000</td>\n",
       "      <td>100.0</td>\n",
       "    </tr>\n",
       "    <tr>\n",
       "      <th>d_mc_hacin</th>\n",
       "      <td>353545.0</td>\n",
       "      <td>29.273422</td>\n",
       "      <td>21.947372</td>\n",
       "      <td>0.0</td>\n",
       "      <td>14.000000</td>\n",
       "      <td>25.000000</td>\n",
       "      <td>39.000000</td>\n",
       "      <td>100.0</td>\n",
       "    </tr>\n",
       "    <tr>\n",
       "      <th>d_mc_cocin</th>\n",
       "      <td>353545.0</td>\n",
       "      <td>30.978339</td>\n",
       "      <td>25.920065</td>\n",
       "      <td>0.0</td>\n",
       "      <td>12.000000</td>\n",
       "      <td>24.000000</td>\n",
       "      <td>43.000000</td>\n",
       "      <td>100.0</td>\n",
       "    </tr>\n",
       "    <tr>\n",
       "      <th>d_mc_gas</th>\n",
       "      <td>353545.0</td>\n",
       "      <td>20.449354</td>\n",
       "      <td>28.609330</td>\n",
       "      <td>0.0</td>\n",
       "      <td>0.000000</td>\n",
       "      <td>7.000000</td>\n",
       "      <td>28.000000</td>\n",
       "      <td>100.0</td>\n",
       "    </tr>\n",
       "    <tr>\n",
       "      <th>adm2_code</th>\n",
       "      <td>353545.0</td>\n",
       "      <td>37083.545444</td>\n",
       "      <td>26983.161429</td>\n",
       "      <td>5001.0</td>\n",
       "      <td>11001.000000</td>\n",
       "      <td>25430.000000</td>\n",
       "      <td>66170.000000</td>\n",
       "      <td>99773.0</td>\n",
       "    </tr>\n",
       "  </tbody>\n",
       "</table>\n",
       "</div>"
      ],
      "text/plain": [
       "                            count          mean  ...           75%       max\n",
       "ipm                      353545.0     22.348797  ...     33.333333     100.0\n",
       "d_u_dpto                 353545.0     36.835956  ...     66.000000      99.0\n",
       "d_u_mpio                 353545.0    247.589625  ...    470.000000     980.0\n",
       "d_ua_clase               353545.0      1.000000  ...      1.000000       1.0\n",
       "d_c_sanita               353545.0      0.980981  ...      1.000000     348.0\n",
       "d_c_acuedu               353545.0      1.279967  ...      0.000000     422.0\n",
       "d_c_alcant               353545.0      2.386372  ...      1.000000     463.0\n",
       "d_c_basura               353545.0      1.055840  ...      0.000000     259.0\n",
       "d_c_aguaco               353545.0      7.319617  ...      8.000000    3669.0\n",
       "d_c_freq_b               353545.0      9.933842  ...     11.000000    1965.0\n",
       "d_c_pared                353545.0      6.135966  ...      7.000000    3668.0\n",
       "d_c_piso                 353545.0     13.388214  ...     16.000000  354129.0\n",
       "d_c_electr               353545.0      0.239076  ...      0.000000     302.0\n",
       "d_c_hacina               353545.0      8.591591  ...     10.000000    3669.0\n",
       "d_c_cocina               353545.0      9.095416  ...     11.000000    3702.0\n",
       "d_c_gas                  353545.0      5.599553  ...      6.000000     648.0\n",
       "d_hogares                353545.0     36.059871  ...     41.000000    4635.0\n",
       "perc_hh_no_toilet        353545.0      3.758998  ...      2.000000     100.0\n",
       "perc_hh_no_water_supply  353545.0      5.575780  ...      0.000000     100.0\n",
       "perc_hh_no_sewage        353545.0     11.099294  ...      3.000000     100.0\n",
       "d_mc_basur               353545.0      5.131924  ...      0.000000     100.0\n",
       "d_mc_aguac               353545.0     25.823479  ...     32.000000     100.0\n",
       "d_mc_freq_               353545.0     30.036850  ...     71.000000     100.0\n",
       "d_mc_pared               353545.0     22.082898  ...     29.000000     100.0\n",
       "d_mc_piso                353545.0     47.661474  ...     75.000000  643871.0\n",
       "d_mc_elect               353545.0      1.027312  ...      0.000000     100.0\n",
       "d_mc_hacin               353545.0     29.273422  ...     39.000000     100.0\n",
       "d_mc_cocin               353545.0     30.978339  ...     43.000000     100.0\n",
       "d_mc_gas                 353545.0     20.449354  ...     28.000000     100.0\n",
       "adm2_code                353545.0  37083.545444  ...  66170.000000   99773.0\n",
       "\n",
       "[30 rows x 8 columns]"
      ]
     },
     "execution_count": 6,
     "metadata": {
      "tags": []
     },
     "output_type": "execute_result"
    }
   ],
   "source": [
    "gdf2.describe().transpose()"
   ]
  },
  {
   "cell_type": "code",
   "execution_count": null,
   "metadata": {
    "colab": {
     "base_uri": "https://localhost:8080/",
     "height": 621
    },
    "colab_type": "code",
    "executionInfo": {
     "elapsed": 1105,
     "status": "ok",
     "timestamp": 1595561471149,
     "user": {
      "displayName": "Niccolo Dejito",
      "photoUrl": "",
      "userId": "13853625020392332200"
     },
     "user_tz": -480
    },
    "id": "HuqrI_PF39as",
    "outputId": "a3b8f3f1-63fa-4d33-928b-697ec571b339"
   },
   "outputs": [
    {
     "data": {
      "text/plain": [
       "BogotÃ¡ D.C.                 43331\n",
       "Antioquia                    39496\n",
       "Valle del Cauca              35689\n",
       "AtlÃ¡ntico                   23408\n",
       "Cundinamarca                 22163\n",
       "Santander                    22077\n",
       "BolÃ­var                     20701\n",
       "Norte de Santander           16396\n",
       "CÃ³rdoba                     15421\n",
       "Tolima                       14758\n",
       "Magdalena                    14655\n",
       "Cesar                        13461\n",
       "BoyacÃ¡                      13073\n",
       "Meta                         12812\n",
       "Huila                        12400\n",
       "Sucre                        10055\n",
       "NariÃ±o                       9989\n",
       "Caldas                        8795\n",
       "Risaralda                     8719\n",
       "La Guajira                    8533\n",
       "Cauca                         8468\n",
       "QuindÃ­o                      6747\n",
       "Casanare                      6552\n",
       "CaquetÃ¡                      5049\n",
       "Arauca                        3814\n",
       "Putumayo                      3700\n",
       "ChocÃ³                        3623\n",
       "Guaviare                       881\n",
       "Vichada                        809\n",
       "San AndrÃ©s y Providencia      524\n",
       "Amazonas                       448\n",
       "GuainÃ­a                       424\n",
       "VaupÃ©s                        174\n",
       "Name: admin1Name, dtype: int64"
      ]
     },
     "execution_count": 45,
     "metadata": {
      "tags": []
     },
     "output_type": "execute_result"
    }
   ],
   "source": [
    "print(gdf2.admin1Name.nunique())\n",
    "gdf2.admin1Name.value_counts()"
   ]
  },
  {
   "cell_type": "code",
   "execution_count": null,
   "metadata": {
    "colab": {
     "base_uri": "https://localhost:8080/",
     "height": 621
    },
    "colab_type": "code",
    "executionInfo": {
     "elapsed": 1602,
     "status": "ok",
     "timestamp": 1595562291844,
     "user": {
      "displayName": "Niccolo Dejito",
      "photoUrl": "",
      "userId": "13853625020392332200"
     },
     "user_tz": -480
    },
    "id": "aB0kJUiM66Kt",
    "outputId": "9a527c88-f2be-4939-98df-933788e423f8"
   },
   "outputs": [
    {
     "data": {
      "text/plain": [
       "BogotÃ¡ D.C.                 4679\n",
       "Antioquia                    4662\n",
       "Valle del Cauca              4447\n",
       "Santander                    3541\n",
       "Cundinamarca                 3002\n",
       "AtlÃ¡ntico                   2819\n",
       "BolÃ­var                     2560\n",
       "BoyacÃ¡                      2084\n",
       "Norte de Santander           2021\n",
       "Meta                         2001\n",
       "Tolima                       1924\n",
       "Huila                        1879\n",
       "CÃ³rdoba                     1754\n",
       "Magdalena                    1680\n",
       "Cesar                        1628\n",
       "NariÃ±o                      1495\n",
       "Casanare                     1351\n",
       "La Guajira                   1301\n",
       "Sucre                        1278\n",
       "Cauca                        1269\n",
       "Risaralda                    1121\n",
       "Caldas                       1120\n",
       "QuindÃ­o                      830\n",
       "ChocÃ³                        828\n",
       "CaquetÃ¡                      627\n",
       "Arauca                        564\n",
       "Putumayo                      517\n",
       "Vichada                       172\n",
       "Guaviare                      140\n",
       "GuainÃ­a                      122\n",
       "Amazonas                       94\n",
       "San AndrÃ©s y Providencia      53\n",
       "VaupÃ©s                        37\n",
       "Name: adm1_name, dtype: int64"
      ]
     },
     "execution_count": 59,
     "metadata": {
      "tags": []
     },
     "output_type": "execute_result"
    }
   ],
   "source": [
    "gdf2[gdf2['perc_hh_no_toilet'].isnull()].adm1_name.value_counts()"
   ]
  },
  {
   "cell_type": "code",
   "execution_count": null,
   "metadata": {
    "colab": {
     "base_uri": "https://localhost:8080/",
     "height": 34
    },
    "colab_type": "code",
    "executionInfo": {
     "elapsed": 1074,
     "status": "ok",
     "timestamp": 1595561523728,
     "user": {
      "displayName": "Niccolo Dejito",
      "photoUrl": "",
      "userId": "13853625020392332200"
     },
     "user_tz": -480
    },
    "id": "mw_NTIfk3crx",
    "outputId": "b868cf8a-4838-4e94-d214-cbbffddb9e24"
   },
   "outputs": [
    {
     "data": {
      "text/plain": [
       "1011"
      ]
     },
     "execution_count": 47,
     "metadata": {
      "tags": []
     },
     "output_type": "execute_result"
    }
   ],
   "source": [
    "gdf2.admin2RefN.nunique()"
   ]
  },
  {
   "cell_type": "code",
   "execution_count": null,
   "metadata": {
    "colab": {},
    "colab_type": "code",
    "id": "sIMuCqkLtzbb"
   },
   "outputs": [],
   "source": []
  },
  {
   "cell_type": "code",
   "execution_count": null,
   "metadata": {
    "colab": {},
    "colab_type": "code",
    "id": "wtIgw8E5tzg_"
   },
   "outputs": [],
   "source": []
  }
 ],
 "metadata": {
  "colab": {
   "authorship_tag": "ABX9TyMbb5FLnjPcEFrG8xFK5b3u",
   "collapsed_sections": [
    "HoQXVcHm7vbQ"
   ],
   "name": "20200724-dataprep.ipynb",
   "provenance": [],
   "toc_visible": true
  },
  "environment": {
   "name": "common-cpu.m53",
   "type": "gcloud",
   "uri": "gcr.io/deeplearning-platform-release/base-cpu:m53"
  },
  "kernelspec": {
   "display_name": "Python 3",
   "language": "python",
   "name": "python3"
  },
  "language_info": {
   "codemirror_mode": {
    "name": "ipython",
    "version": 3
   },
   "file_extension": ".py",
   "mimetype": "text/x-python",
   "name": "python",
   "nbconvert_exporter": "python",
   "pygments_lexer": "ipython3",
   "version": "3.7.8"
  }
 },
 "nbformat": 4,
 "nbformat_minor": 4
}
