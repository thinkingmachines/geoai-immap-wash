{
 "cells": [
  {
   "cell_type": "markdown",
   "metadata": {},
   "source": [
    "This notebook collects key steps taken to produce the training dataset that:\n",
    "* is aggregated to 1x1sqkm (from by block data)\n",
    "* has POI features as surfaces\n",
    "* has features for urban area characteristics"
   ]
  },
  {
   "cell_type": "markdown",
   "metadata": {
    "colab_type": "text",
    "id": "2OT-9FcR7Ry2"
   },
   "source": [
    "## dependencies"
   ]
  },
  {
   "cell_type": "code",
   "execution_count": 1,
   "metadata": {
    "colab": {},
    "colab_type": "code",
    "id": "X7BTqHhA7TFT"
   },
   "outputs": [],
   "source": [
    "import pathlib\n",
    "import sys\n",
    "sys.path.insert(0, '../utils')\n",
    "\n",
    "import geoutils\n",
    "import bqutils\n",
    "from settings import *"
   ]
  },
  {
   "cell_type": "markdown",
   "metadata": {
    "colab_type": "text",
    "id": "NNddvmMXRGn-"
   },
   "source": [
    "## workspace"
   ]
  },
  {
   "cell_type": "code",
   "execution_count": 2,
   "metadata": {
    "colab": {},
    "colab_type": "code",
    "id": "QHczHIMKMEJe"
   },
   "outputs": [],
   "source": [
    "dirs = [feats_dir, inds_dir]\n",
    "for dir_ in dirs:\n",
    "    with pathlib.Path(dir_) as path:\n",
    "        if not path.exists():\n",
    "            path.mkdir(parents=True, exist_ok=True)"
   ]
  },
  {
   "cell_type": "markdown",
   "metadata": {
    "colab_type": "text",
    "id": "3iMEE-xY7Mmq"
   },
   "source": [
    "## data"
   ]
  },
  {
   "cell_type": "code",
   "execution_count": 3,
   "metadata": {
    "colab": {
     "base_uri": "https://localhost:8080/",
     "height": 70
    },
    "colab_type": "code",
    "executionInfo": {
     "elapsed": 7295,
     "status": "ok",
     "timestamp": 1595560313500,
     "user": {
      "displayName": "Niccolo Dejito",
      "photoUrl": "",
      "userId": "13853625020392332200"
     },
     "user_tz": -480
    },
    "id": "Jw8op94JzMyC",
    "outputId": "13f5a48d-fb99-4871-dfe9-2014f443edd7",
    "scrolled": true
   },
   "outputs": [],
   "source": [
    "# !gsutil cp gs://immap-masks/admin_boundaries/admin_bounds.gpkg {feats_dir}\n",
    "# !gsutil cp gs://immap-wash-training/features/2018_{area}_*.tif {feats_dir}\n",
    "# !gsutil cp gs://immap-wash-training/features/urban_area_features.csv {feats_dir}\n",
    "# !gsutil cp gs://immap-wash-training/indicators/Manzanas_urbano.zip {feats_dir}\n",
    "# !gsutil cp gs://immap-wash-training/indicators/indicator_labelled_grid.csv {inds_dir}\n",
    "# !gsutil cp gs://immap-wash-training/grid/grid_1x1km_wfeatures_lagged.csv {feats_dir}\n",
    "# !unzip {feats_dir}Manzanas_urbano.zip"
   ]
  },
  {
   "cell_type": "markdown",
   "metadata": {
    "colab_type": "text",
    "id": "t8hhj2AD7n4R"
   },
   "source": [
    "## indicators"
   ]
  },
  {
   "cell_type": "code",
   "execution_count": 4,
   "metadata": {},
   "outputs": [],
   "source": [
    "gdf = geoutils.generate_indicator_labelled_grid()"
   ]
  },
  {
   "cell_type": "markdown",
   "metadata": {
    "colab_type": "text",
    "id": "04Ffp3RLCcpe"
   },
   "source": [
    "## features"
   ]
  },
  {
   "cell_type": "code",
   "execution_count": 5,
   "metadata": {},
   "outputs": [],
   "source": [
    "# # poi features - done in BQ\n",
    "# depts = get_depts()\n",
    "# for poi in pois:\n",
    "#     print(f'Processing {poi}')\n",
    "#     geoutils.generate_poi_features_by_dept(poi)"
   ]
  },
  {
   "cell_type": "code",
   "execution_count": 6,
   "metadata": {},
   "outputs": [
    {
     "name": "stderr",
     "output_type": "stream",
     "text": [
      "100%|██████████| 13/13 [00:24<00:00,  1.92s/it]\n"
     ]
    }
   ],
   "source": [
    "gdf = geoutils.generate_satellite_features(gdf)"
   ]
  },
  {
   "cell_type": "code",
   "execution_count": 7,
   "metadata": {},
   "outputs": [],
   "source": [
    "# # Urban area + Spatial lag features - done in BQ or separate notebook\n",
    "# geoutils.generate_urban_area_features()\n",
    "# geoutils.generate_spatial_lag_features()"
   ]
  },
  {
   "cell_type": "code",
   "execution_count": 8,
   "metadata": {},
   "outputs": [
    {
     "name": "stdout",
     "output_type": "stream",
     "text": [
      "(7574, 65)\n"
     ]
    },
    {
     "data": {
      "text/html": [
       "<div>\n",
       "<style scoped>\n",
       "    .dataframe tbody tr th:only-of-type {\n",
       "        vertical-align: middle;\n",
       "    }\n",
       "\n",
       "    .dataframe tbody tr th {\n",
       "        vertical-align: top;\n",
       "    }\n",
       "\n",
       "    .dataframe thead th {\n",
       "        text-align: right;\n",
       "    }\n",
       "</style>\n",
       "<table border=\"1\" class=\"dataframe\">\n",
       "  <thead>\n",
       "    <tr style=\"text-align: right;\">\n",
       "      <th></th>\n",
       "      <th>pixelated_urban_area_id</th>\n",
       "      <th>id</th>\n",
       "      <th>geometry</th>\n",
       "      <th>perc_hh_no_toilet</th>\n",
       "      <th>perc_hh_no_water_supply</th>\n",
       "      <th>perc_hh_no_sewage</th>\n",
       "      <th>d_mc_basur</th>\n",
       "      <th>d_mc_aguac</th>\n",
       "      <th>d_mc_freq_</th>\n",
       "      <th>d_mc_pare</th>\n",
       "      <th>...</th>\n",
       "      <th>lag_aridity_cgiarv2</th>\n",
       "      <th>lag_temperature</th>\n",
       "      <th>lag_nighttime_lights</th>\n",
       "      <th>lag_population</th>\n",
       "      <th>lag_elevation</th>\n",
       "      <th>lag_urban_index</th>\n",
       "      <th>lag_nearest_highway</th>\n",
       "      <th>nighttime_lights_area_mean</th>\n",
       "      <th>x</th>\n",
       "      <th>y</th>\n",
       "    </tr>\n",
       "  </thead>\n",
       "  <tbody>\n",
       "    <tr>\n",
       "      <th>0</th>\n",
       "      <td>862.0</td>\n",
       "      <td>417475</td>\n",
       "      <td>POLYGON((-75.5123828117681 5.05751500688412, -...</td>\n",
       "      <td>0.018677</td>\n",
       "      <td>0.020431</td>\n",
       "      <td>0.030647</td>\n",
       "      <td>0.029925</td>\n",
       "      <td>0.150449</td>\n",
       "      <td>0.793726</td>\n",
       "      <td>0.221855</td>\n",
       "      <td>...</td>\n",
       "      <td>17281.00001</td>\n",
       "      <td>14980.00001</td>\n",
       "      <td>47.137354</td>\n",
       "      <td>75.599635</td>\n",
       "      <td>2032.50001</td>\n",
       "      <td>31.37501</td>\n",
       "      <td>381.252504</td>\n",
       "      <td>23.124894</td>\n",
       "      <td>-75.507891</td>\n",
       "      <td>5.062007</td>\n",
       "    </tr>\n",
       "    <tr>\n",
       "      <th>1</th>\n",
       "      <td>83.0</td>\n",
       "      <td>187318</td>\n",
       "      <td>POLYGON((-76.4376475501431 7.23143798441016, -...</td>\n",
       "      <td>0.190164</td>\n",
       "      <td>0.213115</td>\n",
       "      <td>0.209836</td>\n",
       "      <td>0.062295</td>\n",
       "      <td>0.409836</td>\n",
       "      <td>0.760656</td>\n",
       "      <td>0.501639</td>\n",
       "      <td>...</td>\n",
       "      <td>21134.00001</td>\n",
       "      <td>15023.68751</td>\n",
       "      <td>0.483760</td>\n",
       "      <td>1.064785</td>\n",
       "      <td>175.37501</td>\n",
       "      <td>6.87501</td>\n",
       "      <td>727.636400</td>\n",
       "      <td>0.808125</td>\n",
       "      <td>-76.433156</td>\n",
       "      <td>7.235930</td>\n",
       "    </tr>\n",
       "  </tbody>\n",
       "</table>\n",
       "<p>2 rows × 65 columns</p>\n",
       "</div>"
      ],
      "text/plain": [
       "   pixelated_urban_area_id      id  \\\n",
       "0                    862.0  417475   \n",
       "1                     83.0  187318   \n",
       "\n",
       "                                            geometry  perc_hh_no_toilet  \\\n",
       "0  POLYGON((-75.5123828117681 5.05751500688412, -...           0.018677   \n",
       "1  POLYGON((-76.4376475501431 7.23143798441016, -...           0.190164   \n",
       "\n",
       "   perc_hh_no_water_supply  perc_hh_no_sewage  d_mc_basur  d_mc_aguac  \\\n",
       "0                 0.020431           0.030647    0.029925    0.150449   \n",
       "1                 0.213115           0.209836    0.062295    0.409836   \n",
       "\n",
       "   d_mc_freq_  d_mc_pare  ...  lag_aridity_cgiarv2  lag_temperature  \\\n",
       "0    0.793726   0.221855  ...          17281.00001      14980.00001   \n",
       "1    0.760656   0.501639  ...          21134.00001      15023.68751   \n",
       "\n",
       "   lag_nighttime_lights  lag_population  lag_elevation  lag_urban_index  \\\n",
       "0             47.137354       75.599635     2032.50001         31.37501   \n",
       "1              0.483760        1.064785      175.37501          6.87501   \n",
       "\n",
       "   lag_nearest_highway  nighttime_lights_area_mean          x         y  \n",
       "0           381.252504                   23.124894 -75.507891  5.062007  \n",
       "1           727.636400                    0.808125 -76.433156  7.235930  \n",
       "\n",
       "[2 rows x 65 columns]"
      ]
     },
     "execution_count": 8,
     "metadata": {},
     "output_type": "execute_result"
    }
   ],
   "source": [
    "train_df = geoutils.generate_training_data(gdf)\n",
    "print(train_df.shape)\n",
    "train_df.head(2)"
   ]
  },
  {
   "cell_type": "code",
   "execution_count": 38,
   "metadata": {},
   "outputs": [
    {
     "name": "stdout",
     "output_type": "stream",
     "text": [
      "Copying file://../data/20200821_dataset.csv [Content-Type=text/csv]...\n",
      "/ [1 files][  7.6 MiB/  7.6 MiB]                                                \n",
      "Operation completed over 1 objects/7.6 MiB.                                      \n"
     ]
    }
   ],
   "source": [
    "train_df.to_csv(data_dir + '20200821_dataset.csv', index = False)\n",
    "!gsutil cp {data_dir}20200821_dataset.csv gs://immap-wash-training/training/"
   ]
  },
  {
   "cell_type": "code",
   "execution_count": null,
   "metadata": {
    "colab": {},
    "colab_type": "code",
    "id": "sIMuCqkLtzbb"
   },
   "outputs": [],
   "source": []
  },
  {
   "cell_type": "code",
   "execution_count": null,
   "metadata": {
    "colab": {},
    "colab_type": "code",
    "id": "wtIgw8E5tzg_"
   },
   "outputs": [],
   "source": []
  }
 ],
 "metadata": {
  "colab": {
   "authorship_tag": "ABX9TyMbb5FLnjPcEFrG8xFK5b3u",
   "collapsed_sections": [
    "HoQXVcHm7vbQ"
   ],
   "name": "20200724-dataprep.ipynb",
   "provenance": [],
   "toc_visible": true
  },
  "environment": {
   "name": "common-cpu.m54",
   "type": "gcloud",
   "uri": "gcr.io/deeplearning-platform-release/base-cpu:m54"
  },
  "kernelspec": {
   "display_name": "Python 3",
   "language": "python",
   "name": "python3"
  },
  "language_info": {
   "codemirror_mode": {
    "name": "ipython",
    "version": 3
   },
   "file_extension": ".py",
   "mimetype": "text/x-python",
   "name": "python",
   "nbconvert_exporter": "python",
   "pygments_lexer": "ipython3",
   "version": "3.7.8"
  }
 },
 "nbformat": 4,
 "nbformat_minor": 4
}
