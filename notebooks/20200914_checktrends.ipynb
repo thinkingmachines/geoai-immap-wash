{
 "cells": [
  {
   "cell_type": "markdown",
   "metadata": {},
   "source": [
    "This notebook combines datasets on GEIH Metro areas for checking trends across years."
   ]
  },
  {
   "cell_type": "code",
   "execution_count": 1,
   "metadata": {},
   "outputs": [],
   "source": [
    "import pandas as pd\n",
    "import re\n",
    "\n",
    "import sys\n",
    "sys.path.insert(0, '../utils')\n",
    "from settings import *"
   ]
  },
  {
   "cell_type": "code",
   "execution_count": 2,
   "metadata": {},
   "outputs": [],
   "source": [
    "def clean_name(text):\n",
    "    return (re.sub('[^a-z ]','', text.lower()).replace(' ', '_')\n",
    "            .replace('area_metropolitana_de_', '')\n",
    "            .replace('area_metropolitana_del_', ''))"
   ]
  },
  {
   "cell_type": "code",
   "execution_count": 3,
   "metadata": {},
   "outputs": [],
   "source": [
    "wash18 = pd.read_csv(data_dir + '20200916_dataset.csv').drop_duplicates('id')\n",
    "grid_in_metro = pd.read_csv(data_dir + 'grids_in_metro_areas.csv')\n",
    "metro19 = pd.read_csv(data_dir + '20200831_GEIH_Metro_Areas.csv')\n",
    "metro20 = pd.read_csv(data_dir + '20200908_GEIH_Metro_Areas_2020.csv')\n",
    "metro_name = pd.read_csv(data_dir + 'metro_areas_id_name.csv')\n",
    "pred_metro19 = pd.read_csv(data_dir + 'metro_area_predictions.csv')\n",
    "pred_metro20 = pd.read_csv(data_dir + 'metro_area_predictions_2020.csv')"
   ]
  },
  {
   "cell_type": "code",
   "execution_count": 4,
   "metadata": {},
   "outputs": [],
   "source": [
    "metro_name['a_mtro'] = metro_name['a_mtro'].apply(clean_name)\n",
    "metro_name = metro_name.rename(columns = {'OBJECTID': 'metro_id'})"
   ]
  },
  {
   "cell_type": "markdown",
   "metadata": {},
   "source": [
    "## actual"
   ]
  },
  {
   "cell_type": "code",
   "execution_count": 5,
   "metadata": {},
   "outputs": [
    {
     "name": "stdout",
     "output_type": "stream",
     "text": [
      "(26542, 10)\n"
     ]
    }
   ],
   "source": [
    "spanish = {\n",
    "    'd_hogares': 'population',\n",
    "    'd_c_acuedu': 'hh_no_water_supply',\n",
    "    'd_c_alcant': 'hh_no_sewage',\n",
    "    'd_c_sanita': 'hh_no_toilet',\n",
    "}\n",
    "\n",
    "df1 = (pd.merge(grid_in_metro, wash18[['id'] + list(spanish.keys())], how = 'left', on = 'id')\n",
    "      .rename(columns = spanish))\n",
    "print(df1.shape)\n",
    "df2 = df1.groupby('metro_id').agg('sum').reset_index()\n",
    "for indicator in indicators:\n",
    "    df2[indicator] = 100*df2[indicator.replace('perc_', '')] / df2['population']\n",
    "\n",
    "metro18 = df2"
   ]
  },
  {
   "cell_type": "code",
   "execution_count": 6,
   "metadata": {},
   "outputs": [],
   "source": [
    "spanish = {\n",
    "    'OBJECTID': 'metro_id',\n",
    "    'personas': 'population',\n",
    "    'c_acueduct': 'hh_no_water_supply',\n",
    "    'c_alcantar': 'hh_no_sewage',\n",
    "    'c_sanitari': 'hh_no_toilet',\n",
    "    'mc_acueduc': 'perc_hh_no_water_supply',\n",
    "    'mc_alcanta': 'perc_hh_no_sewage',\n",
    "    'mc_sanitar': 'perc_hh_no_toilet',\n",
    "}\n",
    "\n",
    "metro19 = metro19.rename(columns = spanish)\n",
    "metro20 = metro20.rename(columns = spanish)"
   ]
  },
  {
   "cell_type": "code",
   "execution_count": 7,
   "metadata": {},
   "outputs": [],
   "source": [
    "cols = ['metro_id', 'year'] + indicators\n",
    "\n",
    "metro18['year'] = 2018\n",
    "metro19['year'] = 2019\n",
    "metro20['year'] = 2020\n",
    "\n",
    "df3 = pd.concat([\n",
    "    metro18[cols],\n",
    "    metro19[cols],\n",
    "    metro20[cols],   \n",
    "], axis = 0)"
   ]
  },
  {
   "cell_type": "code",
   "execution_count": 8,
   "metadata": {},
   "outputs": [],
   "source": [
    "df4 = pd.merge(metro_name, df3, how = 'left', on = 'metro_id')\n",
    "df5 = df4.set_index(['metro_id', 'a_mtro', 'year']).stack().reset_index()\n",
    "df5.columns = ['metro_id', 'a_mtro', 'year', 'indicator', 'value']"
   ]
  },
  {
   "cell_type": "code",
   "execution_count": 9,
   "metadata": {},
   "outputs": [],
   "source": [
    "df5.to_csv(data_dir + 'metro_trends.csv', index = False)"
   ]
  },
  {
   "cell_type": "markdown",
   "metadata": {},
   "source": [
    "## predicted"
   ]
  },
  {
   "cell_type": "code",
   "execution_count": 10,
   "metadata": {},
   "outputs": [],
   "source": [
    "rnm = {\n",
    "    'pred_perc_hh_no_water_supply': 'perc_hh_no_water_supply', \n",
    "    'pred_perc_hh_no_toilet': 'perc_hh_no_toilet', \n",
    "    'pred_perc_hh_no_sewage': 'perc_hh_no_sewage'\n",
    "}\n",
    "\n",
    "pred_metro19['year'] = 2019\n",
    "pred_metro20['year'] = 2020\n",
    "\n",
    "cols2 = ['metro_id', 'year'] + list(rnm.keys())\n",
    "df6 = pd.concat([\n",
    "    metro18[cols],\n",
    "    pred_metro19[cols2].rename(columns = rnm),\n",
    "    pred_metro20[cols2].rename(columns = rnm)\n",
    "], axis = 0)\n",
    "\n",
    "df7 = pd.merge(metro_name, df6, how = 'left', on = 'metro_id')\n",
    "df8 = df7.set_index(['metro_id', 'a_mtro', 'year']).stack().reset_index()\n",
    "df8.columns = ['metro_id', 'a_mtro', 'year', 'indicator', 'value']"
   ]
  },
  {
   "cell_type": "code",
   "execution_count": 11,
   "metadata": {},
   "outputs": [],
   "source": [
    "df5['val_type'] = 'actual'\n",
    "df8['val_type'] = 'pred'\n",
    "df9 = pd.concat([df5, df8], axis = 0)"
   ]
  },
  {
   "cell_type": "markdown",
   "metadata": {},
   "source": [
    "## output"
   ]
  },
  {
   "cell_type": "code",
   "execution_count": 12,
   "metadata": {},
   "outputs": [],
   "source": [
    "df9.to_csv(data_dir + 'metro_trends.csv', index = False)"
   ]
  },
  {
   "cell_type": "code",
   "execution_count": null,
   "metadata": {},
   "outputs": [],
   "source": []
  }
 ],
 "metadata": {
  "environment": {
   "name": "common-cpu.m54",
   "type": "gcloud",
   "uri": "gcr.io/deeplearning-platform-release/base-cpu:m54"
  },
  "kernelspec": {
   "display_name": "Python 3",
   "language": "python",
   "name": "python3"
  },
  "language_info": {
   "codemirror_mode": {
    "name": "ipython",
    "version": 3
   },
   "file_extension": ".py",
   "mimetype": "text/x-python",
   "name": "python",
   "nbconvert_exporter": "python",
   "pygments_lexer": "ipython3",
   "version": "3.7.8"
  }
 },
 "nbformat": 4,
 "nbformat_minor": 4
}
