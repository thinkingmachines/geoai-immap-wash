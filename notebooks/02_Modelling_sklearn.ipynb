{
 "cells": [
  {
   "cell_type": "markdown",
   "metadata": {},
   "source": [
    "This notebook performs model fitting and evaluating on hold out areas."
   ]
  },
  {
   "cell_type": "markdown",
   "metadata": {
    "colab_type": "text",
    "id": "yfH9Z_Cqm5pr"
   },
   "source": [
    "## init"
   ]
  },
  {
   "cell_type": "code",
   "execution_count": 1,
   "metadata": {
    "colab": {},
    "colab_type": "code",
    "id": "NBnrqlXbSYKD"
   },
   "outputs": [
    {
     "name": "stderr",
     "output_type": "stream",
     "text": [
      "/opt/conda/lib/python3.7/site-packages/sklearn/externals/joblib/__init__.py:15: FutureWarning: sklearn.externals.joblib is deprecated in 0.21 and will be removed in 0.23. Please import this functionality directly from joblib, which can be installed with: pip install joblib. If this warning is raised when loading pickled models, you may need to re-serialize those models with scikit-learn 0.21+.\n",
      "  warnings.warn(msg, category=FutureWarning)\n"
     ]
    }
   ],
   "source": [
    "import pandas as pd\n",
    "import numpy as np\n",
    "from tqdm import tqdm\n",
    "from math import sqrt\n",
    "import pathlib\n",
    "import os\n",
    "from sklearn.externals import joblib\n",
    "# pd.set_option('display.float_format', lambda x: '%.2f' % x)\n",
    "# pd.reset_option('^display')\n",
    "\n",
    "# ignore warnings\n",
    "import logging\n",
    "import warnings\n",
    "logging.getLogger().setLevel(logging.ERROR)\n",
    "warnings.filterwarnings(\"ignore\")\n",
    "\n",
    "import sys\n",
    "sys.path.insert(0, '../utils')\n",
    "import modelutils\n",
    "from settings import *"
   ]
  },
  {
   "cell_type": "code",
   "execution_count": 2,
   "metadata": {},
   "outputs": [],
   "source": [
    "dirs = [model_dir, scaler_dir, output_dir]\n",
    "for dir_ in dirs:\n",
    "    with pathlib.Path(dir_) as path:\n",
    "        if not path.exists():\n",
    "            path.mkdir(parents=True, exist_ok=True)"
   ]
  },
  {
   "cell_type": "code",
   "execution_count": 3,
   "metadata": {
    "colab": {
     "base_uri": "https://localhost:8080/",
     "height": 72
    },
    "colab_type": "code",
    "id": "BW4FX62xRG44",
    "outputId": "139b9634-9f54-440e-8ba3-d58d1c881429"
   },
   "outputs": [
    {
     "name": "stdout",
     "output_type": "stream",
     "text": [
      "Copying gs://immap-wash-training/training/20200821_dataset.csv...\n",
      "/ [1 files][  7.6 MiB/  7.6 MiB]                                                \n",
      "Operation completed over 1 objects/7.6 MiB.                                      \n"
     ]
    }
   ],
   "source": [
    "!gsutil cp gs://immap-wash-training/training/20200821_dataset.csv {data_dir}\n",
    "df = pd.read_csv(data_dir + '20200821_dataset.csv').dropna()"
   ]
  },
  {
   "cell_type": "markdown",
   "metadata": {
    "colab_type": "text",
    "id": "IfOiyVdCUzOg"
   },
   "source": [
    "## fit"
   ]
  },
  {
   "cell_type": "code",
   "execution_count": 5,
   "metadata": {
    "colab": {
     "base_uri": "https://localhost:8080/",
     "height": 108
    },
    "colab_type": "code",
    "id": "u1WktLjgnGIr",
    "outputId": "d0b89cad-4804-4119-9df9-886edf0292be"
   },
   "outputs": [
    {
     "name": "stderr",
     "output_type": "stream",
     "text": [
      "100%|██████████| 3/3 [04:01<00:00, 80.37s/it]\n"
     ]
    }
   ],
   "source": [
    "results = modelutils.fit_models(df, features, indicators, test_areas)"
   ]
  },
  {
   "cell_type": "code",
   "execution_count": 6,
   "metadata": {
    "colab": {
     "base_uri": "https://localhost:8080/",
     "height": 218
    },
    "colab_type": "code",
    "id": "6SYU_dVMDEBz",
    "outputId": "5a9e9c36-8c35-4615-b8ed-6a03d6f71ddc"
   },
   "outputs": [
    {
     "data": {
      "text/html": [
       "<div>\n",
       "<style scoped>\n",
       "    .dataframe tbody tr th:only-of-type {\n",
       "        vertical-align: middle;\n",
       "    }\n",
       "\n",
       "    .dataframe tbody tr th {\n",
       "        vertical-align: top;\n",
       "    }\n",
       "\n",
       "    .dataframe thead th {\n",
       "        text-align: right;\n",
       "    }\n",
       "</style>\n",
       "<table border=\"1\" class=\"dataframe\">\n",
       "  <thead>\n",
       "    <tr style=\"text-align: right;\">\n",
       "      <th></th>\n",
       "      <th>indicator</th>\n",
       "      <th>area</th>\n",
       "      <th>model</th>\n",
       "      <th>correlation</th>\n",
       "      <th>r2_score</th>\n",
       "      <th>mae</th>\n",
       "      <th>rmse</th>\n",
       "    </tr>\n",
       "  </thead>\n",
       "  <tbody>\n",
       "    <tr>\n",
       "      <th>0</th>\n",
       "      <td>perc_hh_no_water_supply</td>\n",
       "      <td>bogot_dc</td>\n",
       "      <td>Ridge</td>\n",
       "      <td>0.366911</td>\n",
       "      <td>-0.009627</td>\n",
       "      <td>0.061207</td>\n",
       "      <td>0.109106</td>\n",
       "    </tr>\n",
       "    <tr>\n",
       "      <th>1</th>\n",
       "      <td>perc_hh_no_water_supply</td>\n",
       "      <td>norte_de_santander</td>\n",
       "      <td>Ridge</td>\n",
       "      <td>0.199039</td>\n",
       "      <td>-0.391915</td>\n",
       "      <td>0.111088</td>\n",
       "      <td>0.137023</td>\n",
       "    </tr>\n",
       "    <tr>\n",
       "      <th>2</th>\n",
       "      <td>perc_hh_no_water_supply</td>\n",
       "      <td>la_guajira</td>\n",
       "      <td>Ridge</td>\n",
       "      <td>0.291378</td>\n",
       "      <td>-0.196440</td>\n",
       "      <td>0.179152</td>\n",
       "      <td>0.251628</td>\n",
       "    </tr>\n",
       "    <tr>\n",
       "      <th>3</th>\n",
       "      <td>perc_hh_no_water_supply</td>\n",
       "      <td>nario</td>\n",
       "      <td>Ridge</td>\n",
       "      <td>0.733675</td>\n",
       "      <td>0.437542</td>\n",
       "      <td>0.098795</td>\n",
       "      <td>0.172711</td>\n",
       "    </tr>\n",
       "    <tr>\n",
       "      <th>4</th>\n",
       "      <td>perc_hh_no_water_supply</td>\n",
       "      <td>bogot_dc</td>\n",
       "      <td>RandomForestRegressor</td>\n",
       "      <td>0.317537</td>\n",
       "      <td>-0.358208</td>\n",
       "      <td>0.091287</td>\n",
       "      <td>0.126547</td>\n",
       "    </tr>\n",
       "  </tbody>\n",
       "</table>\n",
       "</div>"
      ],
      "text/plain": [
       "                 indicator                area                  model  \\\n",
       "0  perc_hh_no_water_supply            bogot_dc                  Ridge   \n",
       "1  perc_hh_no_water_supply  norte_de_santander                  Ridge   \n",
       "2  perc_hh_no_water_supply          la_guajira                  Ridge   \n",
       "3  perc_hh_no_water_supply               nario                  Ridge   \n",
       "4  perc_hh_no_water_supply            bogot_dc  RandomForestRegressor   \n",
       "\n",
       "   correlation  r2_score       mae      rmse  \n",
       "0     0.366911 -0.009627  0.061207  0.109106  \n",
       "1     0.199039 -0.391915  0.111088  0.137023  \n",
       "2     0.291378 -0.196440  0.179152  0.251628  \n",
       "3     0.733675  0.437542  0.098795  0.172711  \n",
       "4     0.317537 -0.358208  0.091287  0.126547  "
      ]
     },
     "execution_count": 6,
     "metadata": {},
     "output_type": "execute_result"
    }
   ],
   "source": [
    "results.head()"
   ]
  },
  {
   "cell_type": "code",
   "execution_count": 7,
   "metadata": {
    "colab": {
     "base_uri": "https://localhost:8080/",
     "height": 278
    },
    "colab_type": "code",
    "id": "sNNynpgU2sY9",
    "outputId": "9994c4b3-a28f-45e7-b6b3-48ae8f97f7c1"
   },
   "outputs": [
    {
     "data": {
      "text/html": [
       "<div>\n",
       "<style scoped>\n",
       "    .dataframe tbody tr th:only-of-type {\n",
       "        vertical-align: middle;\n",
       "    }\n",
       "\n",
       "    .dataframe tbody tr th {\n",
       "        vertical-align: top;\n",
       "    }\n",
       "\n",
       "    .dataframe thead th {\n",
       "        text-align: right;\n",
       "    }\n",
       "</style>\n",
       "<table border=\"1\" class=\"dataframe\">\n",
       "  <thead>\n",
       "    <tr style=\"text-align: right;\">\n",
       "      <th></th>\n",
       "      <th></th>\n",
       "      <th>mae</th>\n",
       "      <th>rmse</th>\n",
       "      <th>r2_score</th>\n",
       "      <th>correlation</th>\n",
       "    </tr>\n",
       "    <tr>\n",
       "      <th>indicator</th>\n",
       "      <th>model</th>\n",
       "      <th></th>\n",
       "      <th></th>\n",
       "      <th></th>\n",
       "      <th></th>\n",
       "    </tr>\n",
       "  </thead>\n",
       "  <tbody>\n",
       "    <tr>\n",
       "      <th rowspan=\"2\" valign=\"top\">perc_hh_no_sewage</th>\n",
       "      <th>RandomForestRegressor</th>\n",
       "      <td>0.137298</td>\n",
       "      <td>0.186503</td>\n",
       "      <td>0.198938</td>\n",
       "      <td>0.470785</td>\n",
       "    </tr>\n",
       "    <tr>\n",
       "      <th>Ridge</th>\n",
       "      <td>0.160571</td>\n",
       "      <td>0.206029</td>\n",
       "      <td>-0.038754</td>\n",
       "      <td>0.486020</td>\n",
       "    </tr>\n",
       "    <tr>\n",
       "      <th rowspan=\"2\" valign=\"top\">perc_hh_no_toilet</th>\n",
       "      <th>RandomForestRegressor</th>\n",
       "      <td>0.054115</td>\n",
       "      <td>0.093672</td>\n",
       "      <td>0.212656</td>\n",
       "      <td>0.489124</td>\n",
       "    </tr>\n",
       "    <tr>\n",
       "      <th>Ridge</th>\n",
       "      <td>0.061758</td>\n",
       "      <td>0.103324</td>\n",
       "      <td>0.051989</td>\n",
       "      <td>0.389665</td>\n",
       "    </tr>\n",
       "    <tr>\n",
       "      <th rowspan=\"2\" valign=\"top\">perc_hh_no_water_supply</th>\n",
       "      <th>RandomForestRegressor</th>\n",
       "      <td>0.093308</td>\n",
       "      <td>0.139451</td>\n",
       "      <td>0.174869</td>\n",
       "      <td>0.511813</td>\n",
       "    </tr>\n",
       "    <tr>\n",
       "      <th>Ridge</th>\n",
       "      <td>0.112560</td>\n",
       "      <td>0.167617</td>\n",
       "      <td>-0.040110</td>\n",
       "      <td>0.397751</td>\n",
       "    </tr>\n",
       "  </tbody>\n",
       "</table>\n",
       "</div>"
      ],
      "text/plain": [
       "                                                    mae      rmse  r2_score  \\\n",
       "indicator               model                                                 \n",
       "perc_hh_no_sewage       RandomForestRegressor  0.137298  0.186503  0.198938   \n",
       "                        Ridge                  0.160571  0.206029 -0.038754   \n",
       "perc_hh_no_toilet       RandomForestRegressor  0.054115  0.093672  0.212656   \n",
       "                        Ridge                  0.061758  0.103324  0.051989   \n",
       "perc_hh_no_water_supply RandomForestRegressor  0.093308  0.139451  0.174869   \n",
       "                        Ridge                  0.112560  0.167617 -0.040110   \n",
       "\n",
       "                                               correlation  \n",
       "indicator               model                               \n",
       "perc_hh_no_sewage       RandomForestRegressor     0.470785  \n",
       "                        Ridge                     0.486020  \n",
       "perc_hh_no_toilet       RandomForestRegressor     0.489124  \n",
       "                        Ridge                     0.389665  \n",
       "perc_hh_no_water_supply RandomForestRegressor     0.511813  \n",
       "                        Ridge                     0.397751  "
      ]
     },
     "execution_count": 7,
     "metadata": {},
     "output_type": "execute_result"
    }
   ],
   "source": [
    "reorder_cols = ['indicator', 'area', 'model', 'mae', 'rmse', 'r2_score', 'correlation']\n",
    "results[reorder_cols].groupby(['indicator', 'model']).mean()"
   ]
  },
  {
   "cell_type": "code",
   "execution_count": 8,
   "metadata": {
    "colab": {
     "base_uri": "https://localhost:8080/",
     "height": 438
    },
    "colab_type": "code",
    "id": "Htd8iIJ7Vz-p",
    "outputId": "b3a565e7-4a26-445e-a40e-b4d052e9059e"
   },
   "outputs": [
    {
     "data": {
      "text/html": [
       "<div>\n",
       "<style scoped>\n",
       "    .dataframe tbody tr th:only-of-type {\n",
       "        vertical-align: middle;\n",
       "    }\n",
       "\n",
       "    .dataframe tbody tr th {\n",
       "        vertical-align: top;\n",
       "    }\n",
       "\n",
       "    .dataframe thead th {\n",
       "        text-align: right;\n",
       "    }\n",
       "</style>\n",
       "<table border=\"1\" class=\"dataframe\">\n",
       "  <thead>\n",
       "    <tr style=\"text-align: right;\">\n",
       "      <th></th>\n",
       "      <th></th>\n",
       "      <th>mae</th>\n",
       "      <th>rmse</th>\n",
       "      <th>r2_score</th>\n",
       "      <th>correlation</th>\n",
       "    </tr>\n",
       "    <tr>\n",
       "      <th>indicator</th>\n",
       "      <th>area</th>\n",
       "      <th></th>\n",
       "      <th></th>\n",
       "      <th></th>\n",
       "      <th></th>\n",
       "    </tr>\n",
       "  </thead>\n",
       "  <tbody>\n",
       "    <tr>\n",
       "      <th rowspan=\"4\" valign=\"top\">perc_hh_no_sewage</th>\n",
       "      <th>bogot_dc</th>\n",
       "      <td>0.094791</td>\n",
       "      <td>0.140728</td>\n",
       "      <td>0.050063</td>\n",
       "      <td>0.511848</td>\n",
       "    </tr>\n",
       "    <tr>\n",
       "      <th>la_guajira</th>\n",
       "      <td>0.236876</td>\n",
       "      <td>0.293725</td>\n",
       "      <td>-0.090853</td>\n",
       "      <td>0.232247</td>\n",
       "    </tr>\n",
       "    <tr>\n",
       "      <th>nario</th>\n",
       "      <td>0.117115</td>\n",
       "      <td>0.162258</td>\n",
       "      <td>0.610267</td>\n",
       "      <td>0.808624</td>\n",
       "    </tr>\n",
       "    <tr>\n",
       "      <th>norte_de_santander</th>\n",
       "      <td>0.146955</td>\n",
       "      <td>0.188352</td>\n",
       "      <td>-0.249109</td>\n",
       "      <td>0.360890</td>\n",
       "    </tr>\n",
       "    <tr>\n",
       "      <th rowspan=\"4\" valign=\"top\">perc_hh_no_toilet</th>\n",
       "      <th>bogot_dc</th>\n",
       "      <td>0.026246</td>\n",
       "      <td>0.039727</td>\n",
       "      <td>-0.032441</td>\n",
       "      <td>0.361833</td>\n",
       "    </tr>\n",
       "    <tr>\n",
       "      <th>la_guajira</th>\n",
       "      <td>0.078937</td>\n",
       "      <td>0.121819</td>\n",
       "      <td>0.050913</td>\n",
       "      <td>0.306082</td>\n",
       "    </tr>\n",
       "    <tr>\n",
       "      <th>nario</th>\n",
       "      <td>0.068130</td>\n",
       "      <td>0.125670</td>\n",
       "      <td>0.451594</td>\n",
       "      <td>0.759636</td>\n",
       "    </tr>\n",
       "    <tr>\n",
       "      <th>norte_de_santander</th>\n",
       "      <td>0.058433</td>\n",
       "      <td>0.106777</td>\n",
       "      <td>0.059225</td>\n",
       "      <td>0.330027</td>\n",
       "    </tr>\n",
       "    <tr>\n",
       "      <th rowspan=\"4\" valign=\"top\">perc_hh_no_water_supply</th>\n",
       "      <th>bogot_dc</th>\n",
       "      <td>0.076247</td>\n",
       "      <td>0.117826</td>\n",
       "      <td>-0.183917</td>\n",
       "      <td>0.342224</td>\n",
       "    </tr>\n",
       "    <tr>\n",
       "      <th>la_guajira</th>\n",
       "      <td>0.164096</td>\n",
       "      <td>0.222960</td>\n",
       "      <td>0.045121</td>\n",
       "      <td>0.413997</td>\n",
       "    </tr>\n",
       "    <tr>\n",
       "      <th>nario</th>\n",
       "      <td>0.083750</td>\n",
       "      <td>0.148646</td>\n",
       "      <td>0.572446</td>\n",
       "      <td>0.811728</td>\n",
       "    </tr>\n",
       "    <tr>\n",
       "      <th>norte_de_santander</th>\n",
       "      <td>0.087644</td>\n",
       "      <td>0.124704</td>\n",
       "      <td>-0.164132</td>\n",
       "      <td>0.251180</td>\n",
       "    </tr>\n",
       "  </tbody>\n",
       "</table>\n",
       "</div>"
      ],
      "text/plain": [
       "                                                 mae      rmse  r2_score  \\\n",
       "indicator               area                                               \n",
       "perc_hh_no_sewage       bogot_dc            0.094791  0.140728  0.050063   \n",
       "                        la_guajira          0.236876  0.293725 -0.090853   \n",
       "                        nario               0.117115  0.162258  0.610267   \n",
       "                        norte_de_santander  0.146955  0.188352 -0.249109   \n",
       "perc_hh_no_toilet       bogot_dc            0.026246  0.039727 -0.032441   \n",
       "                        la_guajira          0.078937  0.121819  0.050913   \n",
       "                        nario               0.068130  0.125670  0.451594   \n",
       "                        norte_de_santander  0.058433  0.106777  0.059225   \n",
       "perc_hh_no_water_supply bogot_dc            0.076247  0.117826 -0.183917   \n",
       "                        la_guajira          0.164096  0.222960  0.045121   \n",
       "                        nario               0.083750  0.148646  0.572446   \n",
       "                        norte_de_santander  0.087644  0.124704 -0.164132   \n",
       "\n",
       "                                            correlation  \n",
       "indicator               area                             \n",
       "perc_hh_no_sewage       bogot_dc               0.511848  \n",
       "                        la_guajira             0.232247  \n",
       "                        nario                  0.808624  \n",
       "                        norte_de_santander     0.360890  \n",
       "perc_hh_no_toilet       bogot_dc               0.361833  \n",
       "                        la_guajira             0.306082  \n",
       "                        nario                  0.759636  \n",
       "                        norte_de_santander     0.330027  \n",
       "perc_hh_no_water_supply bogot_dc               0.342224  \n",
       "                        la_guajira             0.413997  \n",
       "                        nario                  0.811728  \n",
       "                        norte_de_santander     0.251180  "
      ]
     },
     "execution_count": 8,
     "metadata": {},
     "output_type": "execute_result"
    }
   ],
   "source": [
    "results[reorder_cols].groupby(['indicator', 'area']).mean()"
   ]
  },
  {
   "cell_type": "code",
   "execution_count": 9,
   "metadata": {
    "colab": {
     "base_uri": "https://localhost:8080/",
     "height": 158
    },
    "colab_type": "code",
    "id": "7gDFV6GX8ORA",
    "outputId": "e5e867df-62a7-47c2-94fe-5e643a3d8a4b"
   },
   "outputs": [
    {
     "data": {
      "text/html": [
       "<div>\n",
       "<style scoped>\n",
       "    .dataframe tbody tr th:only-of-type {\n",
       "        vertical-align: middle;\n",
       "    }\n",
       "\n",
       "    .dataframe tbody tr th {\n",
       "        vertical-align: top;\n",
       "    }\n",
       "\n",
       "    .dataframe thead th {\n",
       "        text-align: right;\n",
       "    }\n",
       "</style>\n",
       "<table border=\"1\" class=\"dataframe\">\n",
       "  <thead>\n",
       "    <tr style=\"text-align: right;\">\n",
       "      <th></th>\n",
       "      <th>count</th>\n",
       "      <th>mean</th>\n",
       "      <th>std</th>\n",
       "      <th>min</th>\n",
       "      <th>25%</th>\n",
       "      <th>50%</th>\n",
       "      <th>75%</th>\n",
       "      <th>max</th>\n",
       "    </tr>\n",
       "  </thead>\n",
       "  <tbody>\n",
       "    <tr>\n",
       "      <th>perc_hh_no_water_supply</th>\n",
       "      <td>7421.0</td>\n",
       "      <td>0.077111</td>\n",
       "      <td>0.170809</td>\n",
       "      <td>0.0</td>\n",
       "      <td>0.001383</td>\n",
       "      <td>0.010172</td>\n",
       "      <td>0.051037</td>\n",
       "      <td>1.00</td>\n",
       "    </tr>\n",
       "    <tr>\n",
       "      <th>perc_hh_no_toilet</th>\n",
       "      <td>7421.0</td>\n",
       "      <td>0.056190</td>\n",
       "      <td>0.109878</td>\n",
       "      <td>0.0</td>\n",
       "      <td>0.007773</td>\n",
       "      <td>0.016949</td>\n",
       "      <td>0.048544</td>\n",
       "      <td>0.95</td>\n",
       "    </tr>\n",
       "    <tr>\n",
       "      <th>perc_hh_no_sewage</th>\n",
       "      <td>7421.0</td>\n",
       "      <td>0.166633</td>\n",
       "      <td>0.264022</td>\n",
       "      <td>0.0</td>\n",
       "      <td>0.005988</td>\n",
       "      <td>0.034691</td>\n",
       "      <td>0.186047</td>\n",
       "      <td>1.00</td>\n",
       "    </tr>\n",
       "  </tbody>\n",
       "</table>\n",
       "</div>"
      ],
      "text/plain": [
       "                          count      mean       std  min       25%       50%  \\\n",
       "perc_hh_no_water_supply  7421.0  0.077111  0.170809  0.0  0.001383  0.010172   \n",
       "perc_hh_no_toilet        7421.0  0.056190  0.109878  0.0  0.007773  0.016949   \n",
       "perc_hh_no_sewage        7421.0  0.166633  0.264022  0.0  0.005988  0.034691   \n",
       "\n",
       "                              75%   max  \n",
       "perc_hh_no_water_supply  0.051037  1.00  \n",
       "perc_hh_no_toilet        0.048544  0.95  \n",
       "perc_hh_no_sewage        0.186047  1.00  "
      ]
     },
     "execution_count": 9,
     "metadata": {},
     "output_type": "execute_result"
    }
   ],
   "source": [
    "df[indicators].describe().transpose()"
   ]
  },
  {
   "cell_type": "markdown",
   "metadata": {},
   "source": [
    "## predict"
   ]
  },
  {
   "cell_type": "code",
   "execution_count": 10,
   "metadata": {
    "colab": {
     "base_uri": "https://localhost:8080/",
     "height": 108
    },
    "colab_type": "code",
    "id": "PCGhLTRs1d3q",
    "outputId": "07a3a8b6-9470-4803-b0ec-c90384d0ec6d"
   },
   "outputs": [
    {
     "name": "stderr",
     "output_type": "stream",
     "text": [
      "100%|██████████| 3/3 [00:01<00:00,  2.79it/s]\n"
     ]
    }
   ],
   "source": [
    "for indicator in tqdm(indicators):\n",
    "    for model_type in ['RandomForestRegressor']:\n",
    "        for area in test_areas:\n",
    "            modelutils.predict_on_holdout(df, results, features, indicator, area, model_type)"
   ]
  },
  {
   "cell_type": "code",
   "execution_count": 15,
   "metadata": {},
   "outputs": [
    {
     "name": "stdout",
     "output_type": "stream",
     "text": [
      "['lag_aridity_cgiarv2', 'nighttime_lights', 'lag_elevation', 'elevation', 'aridity_cgiarv2', 'lag_vegetation', 'nighttime_lights_area_mean', 'population', 'lag_temperature', 'temperature', 'vegetation', 'lag_nearest_waterway', 'nearest_waterway', 'lag_population', 'pixelated_urban_area_size', 'lag_nighttime_lights', 'distance_from_capital', 'lag_urban_index', 'distance_from_capital_outskirts', 'lag_nearest_highway']\n"
     ]
    }
   ],
   "source": [
    "# Get top features of best model\n",
    "indicator = 'perc_hh_no_toilet'\n",
    "area = 'bogot_dc'\n",
    "model_type = 'RandomForestRegressor'\n",
    "modelutils.predict_on_holdout(df, results, features, indicator, area, model_type)\n",
    "\n",
    "model = joblib.load(model_dir + indicator + '_' + area + '_' + model_type + '.pkl')\n",
    "feature_importances = pd.DataFrame({'feature': features\n",
    "                                    , 'importance': model.feature_importances_})\n",
    "top_features = list(feature_importances.sort_values(by = 'importance', ascending = False).head(20)['feature'])\n",
    "print(top_features)"
   ]
  },
  {
   "cell_type": "markdown",
   "metadata": {},
   "source": [
    "## error analysis"
   ]
  },
  {
   "cell_type": "code",
   "execution_count": null,
   "metadata": {
    "colab": {},
    "colab_type": "code",
    "id": "sACOo3E6131E"
   },
   "outputs": [],
   "source": [
    "# consolidate hold out results to one df\n",
    "files_ = [output_dir + f for f in os.listdir(output_dir)]\n",
    "\n",
    "dfs = []\n",
    "for f in files_:\n",
    "    df = pd.read_csv(f)\n",
    "    df.columns = ['adm1_name', 'id', 'geometry', 'y_true', 'y_pred']\n",
    "    df['filename'] = f.split('/')[1].split('_')[3]\n",
    "    dfs.append(df)\n",
    "\n",
    "mega_df = pd.concat(dfs, axis = 0)\n",
    "mega_df['absdiff'] = abs(mega_df['y_true'] - mega_df['y_pred'])\n",
    "mega_df.to_csv('results_granular.csv', index= False)"
   ]
  },
  {
   "cell_type": "code",
   "execution_count": null,
   "metadata": {
    "colab": {
     "base_uri": "https://localhost:8080/",
     "height": 555
    },
    "colab_type": "code",
    "id": "8kOt8ge93aeh",
    "outputId": "d76a0a35-e6fa-40f2-b3bd-87addcd71a91"
   },
   "outputs": [
    {
     "name": "stdout",
     "output_type": "stream",
     "text": [
      "count    1099.000000\n",
      "mean        0.090078\n",
      "std         0.112818\n",
      "min         0.000157\n",
      "25%         0.019003\n",
      "50%         0.043796\n",
      "75%         0.119800\n",
      "max         0.744686\n",
      "Name: absdiff, dtype: float64\n"
     ]
    },
    {
     "data": {
      "text/plain": [
       "<matplotlib.axes._subplots.AxesSubplot at 0x7f98da70f2b0>"
      ]
     },
     "execution_count": 236,
     "metadata": {
      "tags": []
     },
     "output_type": "execute_result"
    },
    {
     "data": {
      "image/png": "[encoded data removed]",
      "text/plain": [
       "<Figure size 432x432 with 1 Axes>"
      ]
     },
     "metadata": {
      "needs_background": "light",
      "tags": []
     },
     "output_type": "display_data"
    }
   ],
   "source": [
    "srs = mega_df.loc[mega_df.filename == 'water', 'absdiff']\n",
    "print(srs.describe())\n",
    "pct = 0.35#srs.quantile(0.9)\n",
    "import matplotlib.pyplot as plt\n",
    "plt.grid(b=None)\n",
    "srs[srs<pct].hist(bins = 75,grid=None,figsize=(6,6))"
   ]
  },
  {
   "cell_type": "code",
   "execution_count": null,
   "metadata": {
    "colab": {
     "base_uri": "https://localhost:8080/",
     "height": 558
    },
    "colab_type": "code",
    "id": "o1JQyzmr8SmV",
    "outputId": "bd845665-0df6-4462-b16f-789baea50b70"
   },
   "outputs": [
    {
     "name": "stdout",
     "output_type": "stream",
     "text": [
      "count    819.000000\n",
      "mean       0.117376\n",
      "std        0.142674\n",
      "min        0.000034\n",
      "25%        0.023146\n",
      "50%        0.059097\n",
      "75%        0.146308\n",
      "max        0.698939\n",
      "Name: absdiff, dtype: float64\n"
     ]
    },
    {
     "data": {
      "text/plain": [
       "<matplotlib.axes._subplots.AxesSubplot at 0x7f98db0ea5f8>"
      ]
     },
     "execution_count": 235,
     "metadata": {
      "tags": []
     },
     "output_type": "execute_result"
    },
    {
     "data": {
      "image/png": "[encoded data removed]",
      "text/plain": [
       "<Figure size 432x432 with 1 Axes>"
      ]
     },
     "metadata": {
      "needs_background": "light",
      "tags": []
     },
     "output_type": "display_data"
    }
   ],
   "source": [
    "srs = mega_df.loc[mega_df.filename == 'sewage', 'absdiff']\n",
    "print(srs.describe())\n",
    "pct = 0.35#srs.quantile(0.9)\n",
    "import matplotlib.pyplot as plt\n",
    "plt.grid(b=None)\n",
    "srs[srs<pct].hist(bins = 75,grid=None,figsize=(6,6))"
   ]
  },
  {
   "cell_type": "code",
   "execution_count": null,
   "metadata": {
    "colab": {
     "base_uri": "https://localhost:8080/",
     "height": 556
    },
    "colab_type": "code",
    "id": "8aKcgrtx8RZM",
    "outputId": "665135cc-9f75-47b5-dbee-30ad51f249fd"
   },
   "outputs": [
    {
     "name": "stdout",
     "output_type": "stream",
     "text": [
      "count    1099.000000\n",
      "mean        0.047495\n",
      "std         0.080486\n",
      "min         0.000002\n",
      "25%         0.011352\n",
      "50%         0.019999\n",
      "75%         0.049033\n",
      "max         0.708308\n",
      "Name: absdiff, dtype: float64\n"
     ]
    },
    {
     "data": {
      "text/plain": [
       "<matplotlib.axes._subplots.AxesSubplot at 0x7f98da5f5a20>"
      ]
     },
     "execution_count": 237,
     "metadata": {
      "tags": []
     },
     "output_type": "execute_result"
    },
    {
     "data": {
      "image/png": "[encoded data removed]",
      "text/plain": [
       "<Figure size 432x432 with 1 Axes>"
      ]
     },
     "metadata": {
      "needs_background": "light",
      "tags": []
     },
     "output_type": "display_data"
    }
   ],
   "source": [
    "srs = mega_df.loc[mega_df.filename == 'toilet', 'absdiff']\n",
    "print(srs.describe())\n",
    "pct = 0.35#srs.quantile(0.9)\n",
    "import matplotlib.pyplot as plt\n",
    "plt.grid(b=None)\n",
    "srs[srs<pct].hist(bins = 75,grid=None,figsize=(6,6))"
   ]
  },
  {
   "cell_type": "code",
   "execution_count": null,
   "metadata": {
    "colab": {},
    "colab_type": "code",
    "id": "MfUcopREe4mO"
   },
   "outputs": [],
   "source": []
  },
  {
   "cell_type": "code",
   "execution_count": null,
   "metadata": {
    "colab": {},
    "colab_type": "code",
    "id": "gBA9mku6e4pM"
   },
   "outputs": [],
   "source": []
  },
  {
   "cell_type": "code",
   "execution_count": null,
   "metadata": {
    "colab": {},
    "colab_type": "code",
    "id": "gApoafBbe4uW"
   },
   "outputs": [],
   "source": []
  },
  {
   "cell_type": "code",
   "execution_count": null,
   "metadata": {
    "colab": {},
    "colab_type": "code",
    "id": "1F3Ts_HL3KIC"
   },
   "outputs": [],
   "source": []
  },
  {
   "cell_type": "code",
   "execution_count": null,
   "metadata": {
    "colab": {},
    "colab_type": "code",
    "id": "FUvC04xH3KKw"
   },
   "outputs": [],
   "source": []
  },
  {
   "cell_type": "code",
   "execution_count": null,
   "metadata": {
    "colab": {},
    "colab_type": "code",
    "id": "Py6RLzgW2sen"
   },
   "outputs": [],
   "source": []
  },
  {
   "cell_type": "code",
   "execution_count": null,
   "metadata": {
    "colab": {},
    "colab_type": "code",
    "id": "RbIBkwle2sjx"
   },
   "outputs": [],
   "source": []
  }
 ],
 "metadata": {
  "colab": {
   "collapsed_sections": [
    "qqvRjTBEm7ov",
    "yfH9Z_Cqm5pr"
   ],
   "name": "20200811-models-sklearn.ipynb",
   "provenance": []
  },
  "environment": {
   "name": "common-cpu.m54",
   "type": "gcloud",
   "uri": "gcr.io/deeplearning-platform-release/base-cpu:m54"
  },
  "kernelspec": {
   "display_name": "Python 3",
   "language": "python",
   "name": "python3"
  },
  "language_info": {
   "codemirror_mode": {
    "name": "ipython",
    "version": 3
   },
   "file_extension": ".py",
   "mimetype": "text/x-python",
   "name": "python",
   "nbconvert_exporter": "python",
   "pygments_lexer": "ipython3",
   "version": "3.7.8"
  }
 },
 "nbformat": 4,
 "nbformat_minor": 4
}
