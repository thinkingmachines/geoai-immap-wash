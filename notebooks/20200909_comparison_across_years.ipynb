{
 "cells": [
  {
   "cell_type": "markdown",
   "metadata": {},
   "source": [
    "This notebook creates a comparison between the features and actual(/predicted) wash indicators across 2018, 2019, 2020"
   ]
  },
  {
   "cell_type": "code",
   "execution_count": 1,
   "metadata": {},
   "outputs": [
    {
     "name": "stderr",
     "output_type": "stream",
     "text": [
      "/opt/conda/lib/python3.7/site-packages/sklearn/externals/joblib/__init__.py:15: FutureWarning: sklearn.externals.joblib is deprecated in 0.21 and will be removed in 0.23. Please import this functionality directly from joblib, which can be installed with: pip install joblib. If this warning is raised when loading pickled models, you may need to re-serialize those models with scikit-learn 0.21+.\n",
      "  warnings.warn(msg, category=FutureWarning)\n"
     ]
    }
   ],
   "source": [
    "import pandas as pd\n",
    "\n",
    "import sys\n",
    "sys.path.insert(0, '../utils')\n",
    "import modelutils\n",
    "from settings import *"
   ]
  },
  {
   "cell_type": "code",
   "execution_count": 23,
   "metadata": {},
   "outputs": [],
   "source": [
    "preds_2019 = pd.read_csv(data_dir + 'metro_area_predictions.csv')\n",
    "preds_2020 = pd.read_csv(data_dir + 'metro_area_predictions_2020.csv')"
   ]
  },
  {
   "cell_type": "code",
   "execution_count": 2,
   "metadata": {},
   "outputs": [],
   "source": [
    "feats_2019 = pd.read_csv(data_dir + '20200902_dataset_2019.csv')\n",
    "feats_2020 = pd.read_csv(data_dir + '20200908_dataset_2020.csv')"
   ]
  },
  {
   "cell_type": "code",
   "execution_count": 17,
   "metadata": {},
   "outputs": [],
   "source": [
    "raw = pd.read_csv(data_dir + '20200830_dataset.csv').drop_duplicates('id')"
   ]
  },
  {
   "cell_type": "code",
   "execution_count": 15,
   "metadata": {},
   "outputs": [],
   "source": [
    "grid_in_metro = feats_2019[['id', 'metro_id']].drop_duplicates('id')"
   ]
  },
  {
   "cell_type": "code",
   "execution_count": 40,
   "metadata": {},
   "outputs": [],
   "source": [
    "keep_cols = ['metro_id'] + features + indicators"
   ]
  },
  {
   "cell_type": "code",
   "execution_count": 45,
   "metadata": {},
   "outputs": [],
   "source": [
    "metro_names = pd.read_csv(data_dir + 'metro_areas_id_name.csv')"
   ]
  },
  {
   "cell_type": "code",
   "execution_count": 59,
   "metadata": {},
   "outputs": [],
   "source": [
    "# join\n",
    "wash_grid_2018 = pd.merge(raw, grid_in_metro, on = 'id')[keep_cols]\n",
    "wash_grid_2019 = pd.merge(feats_2019, preds_2019, on = 'metro_id')[keep_cols]\n",
    "wash_grid_2020 = pd.merge(feats_2020, preds_2020, on = 'metro_id')[keep_cols]\n",
    "# get median\n",
    "wash_metro_2018 = wash_grid_2018.groupby('metro_id').median().reset_index()\n",
    "wash_metro_2019 = wash_grid_2019.groupby('metro_id').median().reset_index()\n",
    "wash_metro_2020 = wash_grid_2020.groupby('metro_id').median().reset_index()"
   ]
  },
  {
   "cell_type": "code",
   "execution_count": 62,
   "metadata": {},
   "outputs": [],
   "source": [
    "wash_metro = pd.merge(pd.merge(pd.merge(\n",
    "    metro_names, wash_metro_2018, left_on = 'OBJECTID', right_on = 'metro_id', suffixes = ['', '']),\n",
    "    wash_metro_2019, left_on = 'metro_id', right_on = 'metro_id', suffixes = ['', '_2019']),\n",
    "    wash_metro_2020, left_on = 'metro_id', right_on = 'metro_id', suffixes = ['', '_2020'])"
   ]
  },
  {
   "cell_type": "code",
   "execution_count": 63,
   "metadata": {},
   "outputs": [
    {
     "data": {
      "text/plain": [
       "Index(['OBJECTID', 'a_mtro', 'metro_id', 'vegetation', 'aridity_cgiarv2',\n",
       "       'temperature', 'nighttime_lights', 'population', 'elevation',\n",
       "       'urban_index', 'nearest_waterway', 'nearest_commercial',\n",
       "       'nearest_restaurant', 'nearest_hospital', 'nearest_airport',\n",
       "       'nearest_highway', 'perc_hh_no_water_supply', 'perc_hh_no_toilet',\n",
       "       'perc_hh_no_sewage', 'vegetation_2019', 'aridity_cgiarv2_2019',\n",
       "       'temperature_2019', 'nighttime_lights_2019', 'population_2019',\n",
       "       'elevation_2019', 'urban_index_2019', 'nearest_waterway_2019',\n",
       "       'nearest_commercial_2019', 'nearest_restaurant_2019',\n",
       "       'nearest_hospital_2019', 'nearest_airport_2019', 'nearest_highway_2019',\n",
       "       'perc_hh_no_water_supply_2019', 'perc_hh_no_toilet_2019',\n",
       "       'perc_hh_no_sewage_2019', 'vegetation_2020', 'aridity_cgiarv2_2020',\n",
       "       'temperature_2020', 'nighttime_lights_2020', 'population_2020',\n",
       "       'elevation_2020', 'urban_index_2020', 'nearest_waterway_2020',\n",
       "       'nearest_commercial_2020', 'nearest_restaurant_2020',\n",
       "       'nearest_hospital_2020', 'nearest_airport_2020', 'nearest_highway_2020',\n",
       "       'perc_hh_no_water_supply_2020', 'perc_hh_no_toilet_2020',\n",
       "       'perc_hh_no_sewage_2020'],\n",
       "      dtype='object')"
      ]
     },
     "execution_count": 63,
     "metadata": {},
     "output_type": "execute_result"
    }
   ],
   "source": [
    "wash_metro.columns"
   ]
  },
  {
   "cell_type": "code",
   "execution_count": 66,
   "metadata": {},
   "outputs": [],
   "source": [
    "wash_metro.to_csv(data_dir + 'wash_metro.csv')"
   ]
  },
  {
   "cell_type": "code",
   "execution_count": 67,
   "metadata": {},
   "outputs": [
    {
     "data": {
      "text/plain": [
       "OBJECTID                           12.000000\n",
       "metro_id                           12.000000\n",
       "vegetation                       2901.000000\n",
       "aridity_cgiarv2                 12444.000000\n",
       "temperature                     15302.000000\n",
       "nighttime_lights                   27.651249\n",
       "population                         49.088737\n",
       "elevation                         477.000000\n",
       "urban_index                        33.000000\n",
       "nearest_waterway                  470.218414\n",
       "nearest_commercial               1355.286865\n",
       "nearest_restaurant                846.053223\n",
       "nearest_hospital                 1136.366699\n",
       "nearest_airport                  8025.561523\n",
       "nearest_highway                   677.732300\n",
       "perc_hh_no_water_supply             0.000000\n",
       "perc_hh_no_toilet                   0.009091\n",
       "perc_hh_no_sewage                   0.005115\n",
       "vegetation_2019                  2816.000000\n",
       "aridity_cgiarv2_2019            12444.000000\n",
       "temperature_2019                15297.000000\n",
       "nighttime_lights_2019              27.811251\n",
       "population_2019                    54.951057\n",
       "elevation_2019                    477.000000\n",
       "urban_index_2019                   33.000000\n",
       "nearest_waterway_2019             470.218414\n",
       "nearest_commercial_2019          1355.286865\n",
       "nearest_restaurant_2019           846.053223\n",
       "nearest_hospital_2019            1136.366699\n",
       "nearest_airport_2019             8025.561523\n",
       "nearest_highway_2019              677.732300\n",
       "perc_hh_no_water_supply_2019        0.503327\n",
       "perc_hh_no_toilet_2019              1.262600\n",
       "perc_hh_no_sewage_2019              2.148556\n",
       "vegetation_2020                  2653.500000\n",
       "aridity_cgiarv2_2020            12444.000000\n",
       "temperature_2020                15292.000000\n",
       "nighttime_lights_2020              25.221249\n",
       "population_2020                    52.499481\n",
       "elevation_2020                    477.000000\n",
       "urban_index_2020                   33.000000\n",
       "nearest_waterway_2020             470.218414\n",
       "nearest_commercial_2020          1355.286865\n",
       "nearest_restaurant_2020           846.053223\n",
       "nearest_hospital_2020            1136.366699\n",
       "nearest_airport_2020             8025.561523\n",
       "nearest_highway_2020              677.732300\n",
       "perc_hh_no_water_supply_2020        0.372125\n",
       "perc_hh_no_toilet_2020              0.454699\n",
       "perc_hh_no_sewage_2020              1.877133\n",
       "dtype: float64"
      ]
     },
     "execution_count": 67,
     "metadata": {},
     "output_type": "execute_result"
    }
   ],
   "source": [
    "wash_metro.median()"
   ]
  },
  {
   "cell_type": "code",
   "execution_count": 73,
   "metadata": {},
   "outputs": [
    {
     "data": {
      "text/plain": [
       "OBJECTID                                                   7\n",
       "a_mtro                          AREA METROPOLITANA DE BOGOTÁ\n",
       "metro_id                                                   7\n",
       "vegetation                                              1730\n",
       "aridity_cgiarv2                                        10247\n",
       "temperature                                          15031.5\n",
       "nighttime_lights                                     48.4137\n",
       "population                                           180.225\n",
       "elevation                                               2559\n",
       "urban_index                                               34\n",
       "nearest_waterway                                     486.428\n",
       "nearest_commercial                                   803.471\n",
       "nearest_restaurant                                   485.257\n",
       "nearest_hospital                                     1004.39\n",
       "nearest_airport                                      11773.3\n",
       "nearest_highway                                      511.421\n",
       "perc_hh_no_water_supply                                    0\n",
       "perc_hh_no_toilet                                  0.0097561\n",
       "perc_hh_no_sewage                                          0\n",
       "vegetation_2019                                         1803\n",
       "aridity_cgiarv2_2019                                   10242\n",
       "temperature_2019                                       15023\n",
       "nighttime_lights_2019                                49.8187\n",
       "population_2019                                      193.213\n",
       "elevation_2019                                          2559\n",
       "urban_index_2019                                          34\n",
       "nearest_waterway_2019                                489.518\n",
       "nearest_commercial_2019                               804.64\n",
       "nearest_restaurant_2019                              485.965\n",
       "nearest_hospital_2019                                1004.39\n",
       "nearest_airport_2019                                 11813.2\n",
       "nearest_highway_2019                                 511.421\n",
       "perc_hh_no_water_supply_2019                        0.084628\n",
       "perc_hh_no_toilet_2019                              0.272114\n",
       "perc_hh_no_sewage_2019                              0.561612\n",
       "vegetation_2020                                       1806.5\n",
       "aridity_cgiarv2_2020                                   10242\n",
       "temperature_2020                                       15090\n",
       "nighttime_lights_2020                                50.2925\n",
       "population_2020                                      190.342\n",
       "elevation_2020                                          2559\n",
       "urban_index_2020                                          34\n",
       "nearest_waterway_2020                                489.518\n",
       "nearest_commercial_2020                               804.64\n",
       "nearest_restaurant_2020                              485.965\n",
       "nearest_hospital_2020                                1004.39\n",
       "nearest_airport_2020                                 11813.2\n",
       "nearest_highway_2020                                 511.421\n",
       "perc_hh_no_water_supply_2020                               0\n",
       "perc_hh_no_toilet_2020                                     0\n",
       "perc_hh_no_sewage_2020                              0.443751\n",
       "Name: 0, dtype: object"
      ]
     },
     "execution_count": 73,
     "metadata": {},
     "output_type": "execute_result"
    }
   ],
   "source": [
    "wash_metro.query(\"metro_id == 7\").reset_index(drop = True).iloc[0]"
   ]
  },
  {
   "cell_type": "code",
   "execution_count": 74,
   "metadata": {},
   "outputs": [
    {
     "data": {
      "text/plain": [
       "OBJECTID                                5\n",
       "a_mtro                           Riohacha\n",
       "metro_id                                5\n",
       "vegetation                           1983\n",
       "aridity_cgiarv2                      3776\n",
       "temperature                       15370.8\n",
       "nighttime_lights                  30.7463\n",
       "population                        49.0887\n",
       "elevation                              10\n",
       "urban_index                            34\n",
       "nearest_waterway                  2008.56\n",
       "nearest_commercial                569.568\n",
       "nearest_restaurant                415.529\n",
       "nearest_hospital                   837.85\n",
       "nearest_airport                   1891.63\n",
       "nearest_highway                   724.117\n",
       "perc_hh_no_water_supply         0.0423387\n",
       "perc_hh_no_toilet               0.0231283\n",
       "perc_hh_no_sewage               0.0768696\n",
       "vegetation_2019                      2039\n",
       "aridity_cgiarv2_2019                 3776\n",
       "temperature_2019                    15387\n",
       "nighttime_lights_2019               30.29\n",
       "population_2019                   58.5432\n",
       "elevation_2019                         10\n",
       "urban_index_2019                       34\n",
       "nearest_waterway_2019             2008.56\n",
       "nearest_commercial_2019           569.568\n",
       "nearest_restaurant_2019           415.529\n",
       "nearest_hospital_2019              837.85\n",
       "nearest_airport_2019              1891.63\n",
       "nearest_highway_2019              724.117\n",
       "perc_hh_no_water_supply_2019      4.85311\n",
       "perc_hh_no_toilet_2019            2.74664\n",
       "perc_hh_no_sewage_2019            21.7143\n",
       "vegetation_2020                      1652\n",
       "aridity_cgiarv2_2020                 3776\n",
       "temperature_2020                    15421\n",
       "nighttime_lights_2020             34.3288\n",
       "population_2020                   54.0322\n",
       "elevation_2020                         10\n",
       "urban_index_2020                       34\n",
       "nearest_waterway_2020             2008.56\n",
       "nearest_commercial_2020           569.568\n",
       "nearest_restaurant_2020           415.529\n",
       "nearest_hospital_2020              837.85\n",
       "nearest_airport_2020              1891.63\n",
       "nearest_highway_2020              724.117\n",
       "perc_hh_no_water_supply_2020      4.75148\n",
       "perc_hh_no_toilet_2020            1.02539\n",
       "perc_hh_no_sewage_2020            21.6451\n",
       "Name: 0, dtype: object"
      ]
     },
     "execution_count": 74,
     "metadata": {},
     "output_type": "execute_result"
    }
   ],
   "source": [
    "wash_metro.query(\"metro_id == 5\").reset_index(drop = True).iloc[0]"
   ]
  },
  {
   "cell_type": "code",
   "execution_count": 75,
   "metadata": {},
   "outputs": [
    {
     "data": {
      "text/plain": [
       "OBJECTID                               4\n",
       "a_mtro                            Quibdo\n",
       "metro_id                               4\n",
       "vegetation                          2775\n",
       "aridity_cgiarv2                    29418\n",
       "temperature                        15046\n",
       "nighttime_lights                    7.45\n",
       "population                        12.667\n",
       "elevation                             46\n",
       "urban_index                            5\n",
       "nearest_waterway                 695.419\n",
       "nearest_commercial                 40000\n",
       "nearest_restaurant               1923.03\n",
       "nearest_hospital                 1566.72\n",
       "nearest_airport                  1702.34\n",
       "nearest_highway                  1069.64\n",
       "perc_hh_no_water_supply         0.660287\n",
       "perc_hh_no_toilet               0.380282\n",
       "perc_hh_no_sewage               0.731707\n",
       "vegetation_2019                     1708\n",
       "aridity_cgiarv2_2019               29418\n",
       "temperature_2019                   15004\n",
       "nighttime_lights_2019            4.58125\n",
       "population_2019                  13.9429\n",
       "elevation_2019                        46\n",
       "urban_index_2019                       5\n",
       "nearest_waterway_2019            695.419\n",
       "nearest_commercial_2019            40000\n",
       "nearest_restaurant_2019          1923.03\n",
       "nearest_hospital_2019            1566.72\n",
       "nearest_airport_2019             1702.34\n",
       "nearest_highway_2019             1069.64\n",
       "perc_hh_no_water_supply_2019      64.165\n",
       "perc_hh_no_toilet_2019           61.7387\n",
       "perc_hh_no_sewage_2019           84.8468\n",
       "vegetation_2020                   2161.5\n",
       "aridity_cgiarv2_2020               29418\n",
       "temperature_2020                   14992\n",
       "nighttime_lights_2020            5.38125\n",
       "population_2020                  13.6606\n",
       "elevation_2020                        46\n",
       "urban_index_2020                       5\n",
       "nearest_waterway_2020            695.419\n",
       "nearest_commercial_2020            40000\n",
       "nearest_restaurant_2020          1923.03\n",
       "nearest_hospital_2020            1566.72\n",
       "nearest_airport_2020             1702.34\n",
       "nearest_highway_2020             1069.64\n",
       "perc_hh_no_water_supply_2020       59.67\n",
       "perc_hh_no_toilet_2020           62.6044\n",
       "perc_hh_no_sewage_2020           82.7488\n",
       "Name: 0, dtype: object"
      ]
     },
     "execution_count": 75,
     "metadata": {},
     "output_type": "execute_result"
    }
   ],
   "source": [
    "wash_metro.query(\"metro_id == 4\").reset_index(drop = True).iloc[0]"
   ]
  },
  {
   "cell_type": "code",
   "execution_count": null,
   "metadata": {},
   "outputs": [],
   "source": []
  },
  {
   "cell_type": "code",
   "execution_count": null,
   "metadata": {},
   "outputs": [],
   "source": []
  }
 ],
 "metadata": {
  "environment": {
   "name": "common-cpu.m54",
   "type": "gcloud",
   "uri": "gcr.io/deeplearning-platform-release/base-cpu:m54"
  },
  "kernelspec": {
   "display_name": "Python 3",
   "language": "python",
   "name": "python3"
  },
  "language_info": {
   "codemirror_mode": {
    "name": "ipython",
    "version": 3
   },
   "file_extension": ".py",
   "mimetype": "text/x-python",
   "name": "python",
   "nbconvert_exporter": "python",
   "pygments_lexer": "ipython3",
   "version": "3.7.8"
  }
 },
 "nbformat": 4,
 "nbformat_minor": 4
}
