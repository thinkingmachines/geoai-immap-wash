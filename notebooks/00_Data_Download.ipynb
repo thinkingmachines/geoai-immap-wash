{
 "cells": [
  {
   "cell_type": "markdown",
   "metadata": {},
   "source": [
    "This notebook downloads the 5 input features for the whole Colombia."
   ]
  },
  {
   "cell_type": "code",
   "execution_count": null,
   "metadata": {
    "colab": {
     "base_uri": "https://localhost:8080/",
     "height": 173
    },
    "colab_type": "code",
    "executionInfo": {
     "elapsed": 29118,
     "status": "ok",
     "timestamp": 1595706719322,
     "user": {
      "displayName": "Niccolo Dejito",
      "photoUrl": "",
      "userId": "13853625020392332200"
     },
     "user_tz": -480
    },
    "id": "EGsa_RDSdNU9",
    "outputId": "8d9f1f24-c816-4117-ada9-0e226f7bb70d"
   },
   "outputs": [
    {
     "name": "stdout",
     "output_type": "stream",
     "text": [
      "To authorize access needed by Earth Engine, open the following URL in a web browser and follow the instructions. If the web browser does not start automatically, please manually browse the URL below.\n",
      "\n",
      "    https://accounts.google.com/o/oauth2/auth?client_id=517222506229-vsmmajv00ul0bs7p89v5m89qs8eb9359.apps.googleusercontent.com&scope=https%3A%2F%2Fwww.googleapis.com%2Fauth%2Fearthengine+https%3A%2F%2Fwww.googleapis.com%2Fauth%2Fdevstorage.full_control&redirect_uri=urn%3Aietf%3Awg%3Aoauth%3A2.0%3Aoob&response_type=code&code_challenge=puazGZKDW_MlhD6mK5uN4R7JaaWUkAC8jzAbh2dE_iQ&code_challenge_method=S256\n",
      "\n",
      "The authorization workflow will generate a code, which you should paste in the box below. \n",
      "Enter verification code: 4/2QHGE0FaFu4CAXMDIMD6OFdWiUClDVUFxS8qYyLM_J3nfRbFo_y9wik\n",
      "\n",
      "Successfully saved authorization token.\n"
     ]
    }
   ],
   "source": [
    "import ee\n",
    "ee.Authenticate()\n",
    "ee.Initialize()"
   ]
  },
  {
   "cell_type": "code",
   "execution_count": 4,
   "metadata": {
    "colab": {},
    "colab_type": "code",
    "executionInfo": {
     "elapsed": 731,
     "status": "ok",
     "timestamp": 1595754781345,
     "user": {
      "displayName": "Niccolo Dejito",
      "photoUrl": "",
      "userId": "13853625020392332200"
     },
     "user_tz": -480
    },
    "id": "Oj_WA5JiGktZ"
   },
   "outputs": [],
   "source": [
    "catalog = {\n",
    "    'vegetation': ('MODIS/006/MOD13A2', 'EVI'),\n",
    "    'aridity': ('MODIS/006/MOD16A2', 'ET'), # 500m\n",
    "    'temperature': ('MODIS/006/MOD11A1', 'LST_Day_1km'),\n",
    "    'nighttime_lights': ('NOAA/VIIRS/DNB/MONTHLY_V1/VCMCFG', 'avg_rad'),\n",
    "    'population': ('WorldPop/GP/100m/pop', 'population'), #100m\n",
    "}\n",
    "\n",
    "features = list(catalog.keys())"
   ]
  },
  {
   "cell_type": "code",
   "execution_count": null,
   "metadata": {
    "colab": {},
    "colab_type": "code",
    "id": "jCy4724ZFfrX"
   },
   "outputs": [],
   "source": [
    "def gee_median(\n",
    "        BBOX, \n",
    "        FILENAME = 'gee_sample',\n",
    "        year = 2018, \n",
    "        min_dt = None, \n",
    "        max_dt = None,\n",
    "        PRODUCT = None,\n",
    "        BAND = 'B0',\n",
    "        verbose = 1,\n",
    "    ):\n",
    "    'adapted from sen2median https://github.com/thinkingmachines/geoai-immap/blob/master/utils/gee.py#L156'\n",
    "    \n",
    "    # set date window\n",
    "    if (min_dt is None) | (max_dt is None):\n",
    "        date1 = f'{year}-01-01'\n",
    "        date2 = f'{year}-12-31'\n",
    "    else:\n",
    "        date1 = min_dt\n",
    "        date2 = max_dt\n",
    "    \n",
    "    # select region\n",
    "    region = ee.Geometry.Rectangle(BBOX) # restrict view to bounding box\n",
    "\n",
    "    #obtain the image\n",
    "    global composite\n",
    "    composite = (ee.ImageCollection(PRODUCT)\n",
    "     .filterDate(date1, date2)\n",
    "     .filterBounds(region)\n",
    "     .select(BAND)\n",
    "     .median())\n",
    "    \n",
    "    # Export task\n",
    "    task = ee.batch.Export.image.toCloudStorage(\n",
    "        image=composite,\n",
    "        description= FILENAME,\n",
    "        bucket= 'immap-gee',\n",
    "        maxPixels= 150000000,\n",
    "        scale= 1000,\n",
    "        region= region,\n",
    "        crs= 'EPSG:4326'\n",
    "    )\n",
    "\n",
    "\n",
    "    task.start()\n",
    "    print('Task started')"
   ]
  },
  {
   "cell_type": "code",
   "execution_count": null,
   "metadata": {
    "colab": {
     "base_uri": "https://localhost:8080/",
     "height": 204
    },
    "colab_type": "code",
    "executionInfo": {
     "elapsed": 4892,
     "status": "ok",
     "timestamp": 1595706747618,
     "user": {
      "displayName": "Niccolo Dejito",
      "photoUrl": "",
      "userId": "13853625020392332200"
     },
     "user_tz": -480
    },
    "id": "njf1Bi--HHdD",
    "outputId": "062f94db-fe38-4fbd-c7b3-f00de80e0d02"
   },
   "outputs": [
    {
     "name": "stdout",
     "output_type": "stream",
     "text": [
      "Starting for colombia\n",
      "Downloading vegetation with product ID MODIS/006/MOD13A2 to gee_wash_2018_colombia_vegetation\n",
      "Task started\n",
      "Downloading aridity with product ID MODIS/006/MOD16A2 to gee_wash_2018_colombia_aridity\n",
      "Task started\n",
      "Downloading temperature with product ID MODIS/006/MOD11A1 to gee_wash_2018_colombia_temperature\n",
      "Task started\n",
      "Downloading nighttime_lights with product ID NOAA/VIIRS/DNB/MONTHLY_V1/VCMCFG to gee_wash_2018_colombia_nighttime_lights\n",
      "Task started\n",
      "Downloading population with product ID WorldPop/GP/100m/pop to gee_wash_2018_colombia_population\n",
      "Task started\n"
     ]
    }
   ],
   "source": [
    "# BBOX = [-72.292152, 11.734492, -72.244001, 11.686520] # small uribia urban area\n",
    "# BBOX = [-73.17020892181104, 11.560920839000062, -72.52724612099996, 10.948171764015513] # riohacha\n",
    "BBOX = [-81.7389221191406,13.3974609375,-66.8377380371094,-4.22784757614136] # whole colombia\n",
    "area = 'colombia'\n",
    "year = 2018\n",
    "\n",
    "print(f'Starting for {area}')\n",
    "for feature in features:\n",
    "    product, band = catalog[feature]\n",
    "    fname = f'gee_wash_{year}_{area}_{feature}'\n",
    "    print(f'Downloading {feature} with product ID {product} to {fname}')\n",
    "    gee_median(\n",
    "            BBOX, \n",
    "            FILENAME = fname,\n",
    "            year = year,\n",
    "            PRODUCT = product,\n",
    "            BAND = band,\n",
    "            verbose = 1,\n",
    "        )"
   ]
  },
  {
   "cell_type": "code",
   "execution_count": 7,
   "metadata": {
    "colab": {
     "base_uri": "https://localhost:8080/",
     "height": 272
    },
    "colab_type": "code",
    "executionInfo": {
     "elapsed": 15116,
     "status": "ok",
     "timestamp": 1595754857739,
     "user": {
      "displayName": "Niccolo Dejito",
      "photoUrl": "",
      "userId": "13853625020392332200"
     },
     "user_tz": -480
    },
    "id": "8cXsJdOlFkMf",
    "outputId": "33872320-fe0c-4007-86b0-559aa7a05dff"
   },
   "outputs": [
    {
     "name": "stdout",
     "output_type": "stream",
     "text": [
      "Copying gs://immap-gee/gee_wash_2018_colombia_vegetation.tif [Content-Type=image/tiff]...\n",
      "/ [1 files][  5.6 MiB/  5.6 MiB]                                                \n",
      "Operation completed over 1 objects/5.6 MiB.                                      \n",
      "Copying gs://immap-gee/gee_wash_2018_colombia_aridity.tif [Content-Type=image/tiff]...\n",
      "/ [1 files][  3.8 MiB/  3.8 MiB]                                                \n",
      "Operation completed over 1 objects/3.8 MiB.                                      \n",
      "Copying gs://immap-gee/gee_wash_2018_colombia_temperature.tif [Content-Type=image/tiff]...\n",
      "/ [1 files][  5.0 MiB/  5.0 MiB]                                                \n",
      "Operation completed over 1 objects/5.0 MiB.                                      \n",
      "Copying gs://immap-gee/gee_wash_2018_colombia_nighttime_lights.tif [Content-Type=image/tiff]...\n",
      "/ [1 files][  5.6 MiB/  5.6 MiB]                                                \n",
      "Operation completed over 1 objects/5.6 MiB.                                      \n",
      "Copying gs://immap-gee/gee_wash_2018_colombia_population.tif [Content-Type=image/tiff]...\n",
      "/ [1 files][  9.7 MiB/  9.7 MiB]                                                \n",
      "Operation completed over 1 objects/9.7 MiB.                                      \n"
     ]
    }
   ],
   "source": [
    "for feature in features:\n",
    "    !gsutil cp gs://immap-gee/gee_wash_{year}_{area}_{feature}.tif gs://immap-wash-training/features/{year}_{area}_{feature}.tif"
   ]
  }
 ],
 "metadata": {
  "colab": {
   "authorship_tag": "ABX9TyPo8EHSAhbLjegAIruRX5lD",
   "collapsed_sections": [],
   "name": "20200724-featuresdl.ipynb",
   "provenance": []
  },
  "environment": {
   "name": "common-cpu.m53",
   "type": "gcloud",
   "uri": "gcr.io/deeplearning-platform-release/base-cpu:m53"
  },
  "kernelspec": {
   "display_name": "Python 3",
   "language": "python",
   "name": "python3"
  },
  "language_info": {
   "codemirror_mode": {
    "name": "ipython",
    "version": 3
   },
   "file_extension": ".py",
   "mimetype": "text/x-python",
   "name": "python",
   "nbconvert_exporter": "python",
   "pygments_lexer": "ipython3",
   "version": "3.7.8"
  }
 },
 "nbformat": 4,
 "nbformat_minor": 4
}
