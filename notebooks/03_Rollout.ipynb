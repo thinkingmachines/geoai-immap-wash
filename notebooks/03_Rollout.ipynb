{
 "cells": [
  {
   "cell_type": "code",
   "execution_count": 16,
   "metadata": {
    "colab": {},
    "colab_type": "code",
    "id": "Zg7xzP4T9kYU"
   },
   "outputs": [],
   "source": [
    "year = 2020"
   ]
  },
  {
   "cell_type": "markdown",
   "metadata": {
    "colab_type": "text",
    "id": "SewNEuvE9kYT"
   },
   "source": [
    "This notebook generates predictions for the relevant year, for both urban and rural areas."
   ]
  },
  {
   "cell_type": "markdown",
   "metadata": {},
   "source": [
    "## Imports and Setup"
   ]
  },
  {
   "cell_type": "code",
   "execution_count": 2,
   "metadata": {
    "colab": {},
    "colab_type": "code",
    "id": "5X7_TSil9kYa",
    "outputId": "911e8317-3f30-40bf-eb7e-d6ddf0e09be1"
   },
   "outputs": [
    {
     "name": "stderr",
     "output_type": "stream",
     "text": [
      "/opt/conda/lib/python3.7/site-packages/sklearn/externals/joblib/__init__.py:15: FutureWarning: sklearn.externals.joblib is deprecated in 0.21 and will be removed in 0.23. Please import this functionality directly from joblib, which can be installed with: pip install joblib. If this warning is raised when loading pickled models, you may need to re-serialize those models with scikit-learn 0.21+.\n",
      "  warnings.warn(msg, category=FutureWarning)\n"
     ]
    }
   ],
   "source": [
    "import re\n",
    "import numpy as np\n",
    "import pandas as pd\n",
    "from math import sqrt\n",
    "import geopandas as gpd\n",
    "import rasterio as rio\n",
    "from shapely.wkt import loads\n",
    "from tqdm import tqdm\n",
    "\n",
    "import sys\n",
    "sys.path.insert(0, '../utils')\n",
    "from settings import *\n",
    "import geoutils\n",
    "import modelutils"
   ]
  },
  {
   "cell_type": "markdown",
   "metadata": {},
   "source": [
    "## Download data from Cloud Storage"
   ]
  },
  {
   "cell_type": "code",
   "execution_count": null,
   "metadata": {
    "colab": {},
    "colab_type": "code",
    "id": "jBfgOP909kYk"
   },
   "outputs": [],
   "source": [
    "# !gsutil cp gs://immap-wash-training/grid/grids_in_urban_and_rural_areas.csv {data_dir}\n",
    "# !gsutil cp gs://immap-wash-training/features/2020_*.tif {feats_dir}\n",
    "# !gsutil cp gs://immap-wash-training/features/2019_*.tif {feats_dir}\n",
    "# !gsutil cp gs://immap-wash-training/features/2018_colombia_aridity_cgiarv2.tif {feats_dir}2020_colombia_aridity_cgiarv2.tif\n",
    "# !gsutil cp gs://immap-wash-training/features/2018_colombia_nearest_highway.tif {feats_dir}2020_colombia_nearest_highway.tif"
   ]
  },
  {
   "cell_type": "markdown",
   "metadata": {},
   "source": [
    "## Load data to memory"
   ]
  },
  {
   "cell_type": "code",
   "execution_count": 18,
   "metadata": {
    "colab": {},
    "colab_type": "code",
    "id": "bL27H9zG9kYo"
   },
   "outputs": [],
   "source": [
    "df = (pd.read_csv(data_dir + 'grids_in_urban_and_rural_areas.csv')\n",
    "      .sort_values(by = 'urbanity')\n",
    "      .drop_duplicates(subset = 'id', keep = 'last'))\n",
    "geom_col = 'centroid_geometry'\n",
    "df[geom_col] = df[geom_col].apply(loads)\n",
    "gdf = gpd.GeoDataFrame(df, geometry = geom_col)"
   ]
  },
  {
   "cell_type": "markdown",
   "metadata": {
    "colab_type": "text",
    "id": "sXoWLPV89kYs"
   },
   "source": [
    "## Generate data for particular year"
   ]
  },
  {
   "cell_type": "code",
   "execution_count": 19,
   "metadata": {
    "colab": {},
    "colab_type": "code",
    "id": "fk0-R2j19kYt",
    "outputId": "c806a409-cb0c-46d0-b286-208efabe8ff4"
   },
   "outputs": [
    {
     "name": "stderr",
     "output_type": "stream",
     "text": [
      "100%|██████████| 13/13 [03:39<00:00, 16.90s/it]\n"
     ]
    },
    {
     "name": "stdout",
     "output_type": "stream",
     "text": [
      "(67612, 41)\n",
      "Complete cases %: 100.0\n",
      "(67131, 41)\n"
     ]
    },
    {
     "data": {
      "text/html": [
       "<div>\n",
       "<style scoped>\n",
       "    .dataframe tbody tr th:only-of-type {\n",
       "        vertical-align: middle;\n",
       "    }\n",
       "\n",
       "    .dataframe tbody tr th {\n",
       "        vertical-align: top;\n",
       "    }\n",
       "\n",
       "    .dataframe thead th {\n",
       "        text-align: right;\n",
       "    }\n",
       "</style>\n",
       "<table border=\"1\" class=\"dataframe\">\n",
       "  <thead>\n",
       "    <tr style=\"text-align: right;\">\n",
       "      <th></th>\n",
       "      <th>pixelated_urban_area_id</th>\n",
       "      <th>id</th>\n",
       "      <th>geometry</th>\n",
       "      <th>urbanity</th>\n",
       "      <th>centroid_geometry</th>\n",
       "      <th>adm1_name</th>\n",
       "      <th>adm2_name</th>\n",
       "      <th>nearest_waterway</th>\n",
       "      <th>nearest_commercial</th>\n",
       "      <th>nearest_restaurant</th>\n",
       "      <th>...</th>\n",
       "      <th>lag_aridity_cgiarv2</th>\n",
       "      <th>lag_temperature</th>\n",
       "      <th>lag_nighttime_lights</th>\n",
       "      <th>lag_population</th>\n",
       "      <th>lag_elevation</th>\n",
       "      <th>lag_urban_index</th>\n",
       "      <th>lag_nearest_highway</th>\n",
       "      <th>nighttime_lights_area_mean</th>\n",
       "      <th>x</th>\n",
       "      <th>y</th>\n",
       "    </tr>\n",
       "  </thead>\n",
       "  <tbody>\n",
       "    <tr>\n",
       "      <th>0</th>\n",
       "      <td>NaN</td>\n",
       "      <td>25303605</td>\n",
       "      <td>POLYGON ((-74.4618779023438 5.4985334602661, -...</td>\n",
       "      <td>r</td>\n",
       "      <td>POINT (-74.46075 5.49741)</td>\n",
       "      <td>cundinamarca</td>\n",
       "      <td>caparrapi</td>\n",
       "      <td>1408.745117</td>\n",
       "      <td>40000.0</td>\n",
       "      <td>25372.031250</td>\n",
       "      <td>...</td>\n",
       "      <td>NaN</td>\n",
       "      <td>NaN</td>\n",
       "      <td>NaN</td>\n",
       "      <td>NaN</td>\n",
       "      <td>NaN</td>\n",
       "      <td>NaN</td>\n",
       "      <td>NaN</td>\n",
       "      <td>NaN</td>\n",
       "      <td>-74.460752</td>\n",
       "      <td>5.497407</td>\n",
       "    </tr>\n",
       "    <tr>\n",
       "      <th>1</th>\n",
       "      <td>NaN</td>\n",
       "      <td>25272300</td>\n",
       "      <td>POLYGON ((-74.47088690234379 5.4827677102661, ...</td>\n",
       "      <td>r</td>\n",
       "      <td>POINT (-74.46976 5.48164)</td>\n",
       "      <td>cundinamarca</td>\n",
       "      <td>caparrapi</td>\n",
       "      <td>2134.792480</td>\n",
       "      <td>40000.0</td>\n",
       "      <td>21935.181641</td>\n",
       "      <td>...</td>\n",
       "      <td>NaN</td>\n",
       "      <td>NaN</td>\n",
       "      <td>NaN</td>\n",
       "      <td>NaN</td>\n",
       "      <td>NaN</td>\n",
       "      <td>NaN</td>\n",
       "      <td>NaN</td>\n",
       "      <td>NaN</td>\n",
       "      <td>-74.469761</td>\n",
       "      <td>5.481642</td>\n",
       "    </tr>\n",
       "    <tr>\n",
       "      <th>2</th>\n",
       "      <td>NaN</td>\n",
       "      <td>21837755</td>\n",
       "      <td>POLYGON ((-75.45962465234379 1.0976369602661, ...</td>\n",
       "      <td>r</td>\n",
       "      <td>POINT (-75.45850 1.09651)</td>\n",
       "      <td>caquet</td>\n",
       "      <td>milan</td>\n",
       "      <td>3844.412842</td>\n",
       "      <td>40000.0</td>\n",
       "      <td>6694.293945</td>\n",
       "      <td>...</td>\n",
       "      <td>NaN</td>\n",
       "      <td>NaN</td>\n",
       "      <td>NaN</td>\n",
       "      <td>NaN</td>\n",
       "      <td>NaN</td>\n",
       "      <td>NaN</td>\n",
       "      <td>NaN</td>\n",
       "      <td>NaN</td>\n",
       "      <td>-75.458499</td>\n",
       "      <td>1.096511</td>\n",
       "    </tr>\n",
       "  </tbody>\n",
       "</table>\n",
       "<p>3 rows × 41 columns</p>\n",
       "</div>"
      ],
      "text/plain": [
       "   pixelated_urban_area_id        id  \\\n",
       "0                      NaN  25303605   \n",
       "1                      NaN  25272300   \n",
       "2                      NaN  21837755   \n",
       "\n",
       "                                            geometry urbanity  \\\n",
       "0  POLYGON ((-74.4618779023438 5.4985334602661, -...        r   \n",
       "1  POLYGON ((-74.47088690234379 5.4827677102661, ...        r   \n",
       "2  POLYGON ((-75.45962465234379 1.0976369602661, ...        r   \n",
       "\n",
       "           centroid_geometry     adm1_name  adm2_name  nearest_waterway  \\\n",
       "0  POINT (-74.46075 5.49741)  cundinamarca  caparrapi       1408.745117   \n",
       "1  POINT (-74.46976 5.48164)  cundinamarca  caparrapi       2134.792480   \n",
       "2  POINT (-75.45850 1.09651)        caquet      milan       3844.412842   \n",
       "\n",
       "   nearest_commercial  nearest_restaurant  ...  lag_aridity_cgiarv2  \\\n",
       "0             40000.0        25372.031250  ...                  NaN   \n",
       "1             40000.0        21935.181641  ...                  NaN   \n",
       "2             40000.0         6694.293945  ...                  NaN   \n",
       "\n",
       "   lag_temperature  lag_nighttime_lights  lag_population  lag_elevation  \\\n",
       "0              NaN                   NaN             NaN            NaN   \n",
       "1              NaN                   NaN             NaN            NaN   \n",
       "2              NaN                   NaN             NaN            NaN   \n",
       "\n",
       "   lag_urban_index  lag_nearest_highway  nighttime_lights_area_mean  \\\n",
       "0              NaN                  NaN                         NaN   \n",
       "1              NaN                  NaN                         NaN   \n",
       "2              NaN                  NaN                         NaN   \n",
       "\n",
       "           x         y  \n",
       "0 -74.460752  5.497407  \n",
       "1 -74.469761  5.481642  \n",
       "2 -75.458499  1.096511  \n",
       "\n",
       "[3 rows x 41 columns]"
      ]
     },
     "execution_count": 19,
     "metadata": {},
     "output_type": "execute_result"
    }
   ],
   "source": [
    "gdf = geoutils.generate_satellite_features(gdf, year = year)\n",
    "test_df = geoutils.generate_training_data(gdf)\n",
    "cols = ['id', 'geometry'] + poi_features + satellite_features\n",
    "print(test_df.shape)\n",
    "test_df = test_df.dropna(subset = cols)\n",
    "print('Complete cases %: ' + str(test_df.dropna(subset = cols).shape[0]/test_df.shape[0]*100))\n",
    "test_df.to_csv(data_dir + f'20200916_dataset_{year}.csv')\n",
    "# test_df = pd.read_csv(data_dir + f'20200916_dataset_{year}.csv')\n",
    "print(test_df.shape)\n",
    "test_df.head(3)"
   ]
  },
  {
   "cell_type": "markdown",
   "metadata": {
    "colab_type": "text",
    "id": "N-nWb-bQ9kYy"
   },
   "source": [
    "## Train full model on 2018"
   ]
  },
  {
   "cell_type": "code",
   "execution_count": 12,
   "metadata": {
    "colab": {},
    "colab_type": "code",
    "id": "bTb6ZSmX9kYz",
    "outputId": "6fe6617e-5211-4a6b-f065-6e0ec2a59305"
   },
   "outputs": [
    {
     "name": "stdout",
     "output_type": "stream",
     "text": [
      "(57036, 45)\n"
     ]
    }
   ],
   "source": [
    "df = pd.read_csv(data_dir + '20200916_dataset.csv')\n",
    "df['population'] = df['population'].fillna(0)\n",
    "df = df.dropna().reset_index(drop = True)\n",
    "train_df = df.copy()\n",
    "print(train_df.shape)"
   ]
  },
  {
   "cell_type": "code",
   "execution_count": 21,
   "metadata": {
    "colab": {},
    "colab_type": "code",
    "id": "XKpPWafP9kY7",
    "outputId": "35b1d180-8a5c-41c9-d01c-73b115aebb89"
   },
   "outputs": [
    {
     "name": "stderr",
     "output_type": "stream",
     "text": [
      "100%|██████████| 3/3 [00:14<00:00,  4.93s/it]\n"
     ]
    }
   ],
   "source": [
    "test_df, top_features = modelutils.model_rollout(train_df, test_df)\n",
    "# top_features.to_csv('top_features_2018.csv', index = False)\n",
    "test_df.to_csv(data_dir + f'20200916_predictions{year}.csv', index = False)"
   ]
  },
  {
   "cell_type": "markdown",
   "metadata": {
    "colab_type": "text",
    "id": "EJAgkVe99kZD"
   },
   "source": [
    "## what changed"
   ]
  },
  {
   "cell_type": "code",
   "execution_count": null,
   "metadata": {
    "colab": {},
    "colab_type": "code",
    "id": "J5VEf6vb9kY_"
   },
   "outputs": [],
   "source": [
    "scaler = joblib.load(scaler_dir + 'scaler_2018_250mv2.pkl')"
   ]
  },
  {
   "cell_type": "code",
   "execution_count": null,
   "metadata": {
    "colab": {},
    "colab_type": "code",
    "id": "Ol9GdPpP9kZD"
   },
   "outputs": [],
   "source": [
    "agg_level = 'adm1_name'\n",
    "keep_cols = [agg_level] + features + indicators\n",
    "\n",
    "def clean_name(text):\n",
    "    return re.sub('[^a-z ]','', text.lower()).replace(' ', '_')"
   ]
  },
  {
   "cell_type": "code",
   "execution_count": null,
   "metadata": {
    "colab": {},
    "colab_type": "code",
    "id": "YxyfiOVB9kZI"
   },
   "outputs": [],
   "source": [
    "raw = pd.read_csv(data_dir + '20200830_dataset.csv').drop_duplicates('id')\n",
    "raw['adm1_name'] = raw['adm1_name'].apply(clean_name)\n",
    "\n",
    "feats_2020 = pd.read_csv(data_dir + '20200914_dataset_2020.csv')\n",
    "preds_2020 = pd.read_csv(data_dir + '20200914_predictions2020.csv').rename(columns = {\n",
    "    'pred_perc_hh_no_water_supply': 'perc_hh_no_water_supply',\n",
    "    'pred_perc_hh_no_toilet': 'perc_hh_no_toilet',\n",
    "    'pred_perc_hh_no_sewage': 'perc_hh_no_sewage',\n",
    "})[['id', 'perc_hh_no_water_supply', 'perc_hh_no_toilet', 'perc_hh_no_sewage']]"
   ]
  },
  {
   "cell_type": "code",
   "execution_count": null,
   "metadata": {
    "colab": {},
    "colab_type": "code",
    "id": "ZAmPp_ex9kZL",
    "outputId": "efb4634a-a860-4a39-a3a2-3d6a95654e6e"
   },
   "outputs": [
    {
     "data": {
      "text/html": [
       "<div>\n",
       "<style scoped>\n",
       "    .dataframe tbody tr th:only-of-type {\n",
       "        vertical-align: middle;\n",
       "    }\n",
       "\n",
       "    .dataframe tbody tr th {\n",
       "        vertical-align: top;\n",
       "    }\n",
       "\n",
       "    .dataframe thead th {\n",
       "        text-align: right;\n",
       "    }\n",
       "</style>\n",
       "<table border=\"1\" class=\"dataframe\">\n",
       "  <thead>\n",
       "    <tr style=\"text-align: right;\">\n",
       "      <th></th>\n",
       "      <th>adm1_name</th>\n",
       "      <th>feature</th>\n",
       "      <th>value</th>\n",
       "      <th>year</th>\n",
       "    </tr>\n",
       "  </thead>\n",
       "  <tbody>\n",
       "    <tr>\n",
       "      <th>1053</th>\n",
       "      <td>vichada</td>\n",
       "      <td>perc_hh_no_water_supply</td>\n",
       "      <td>0.176869</td>\n",
       "      <td>2020</td>\n",
       "    </tr>\n",
       "    <tr>\n",
       "      <th>1054</th>\n",
       "      <td>vichada</td>\n",
       "      <td>perc_hh_no_toilet</td>\n",
       "      <td>0.078483</td>\n",
       "      <td>2020</td>\n",
       "    </tr>\n",
       "    <tr>\n",
       "      <th>1055</th>\n",
       "      <td>vichada</td>\n",
       "      <td>perc_hh_no_sewage</td>\n",
       "      <td>0.722966</td>\n",
       "      <td>2020</td>\n",
       "    </tr>\n",
       "  </tbody>\n",
       "</table>\n",
       "</div>"
      ],
      "text/plain": [
       "     adm1_name                  feature     value  year\n",
       "1053   vichada  perc_hh_no_water_supply  0.176869  2020\n",
       "1054   vichada        perc_hh_no_toilet  0.078483  2020\n",
       "1055   vichada        perc_hh_no_sewage  0.722966  2020"
      ]
     },
     "execution_count": 18,
     "metadata": {
      "tags": []
     },
     "output_type": "execute_result"
    }
   ],
   "source": [
    "# join\n",
    "wash_grid_2018_ = raw\n",
    "wash_grid_2020_ = pd.merge(feats_2020, preds_2020, on = 'id')\n",
    "\n",
    "print(wash_grid_2018_.shape)\n",
    "print(wash_grid_2020_.shape)\n",
    "# filter to 2018 grids only for comparability\n",
    "wash_grid_2020_ = wash_grid_2020_[wash_grid_2020_['id'].isin(list(wash_grid_2018_['id'].unique()))]\n",
    "print(wash_grid_2020_.shape)\n",
    "\n",
    "# scale features except population\n",
    "wash_grid_2018 = wash_grid_2018_[keep_cols].copy()\n",
    "wash_grid_2020 = wash_grid_2020_[keep_cols].copy()\n",
    "\n",
    "wash_grid_2018.loc[:,features] = scaler.transform(wash_grid_2018[features])\n",
    "wash_grid_2020.loc[:,features] = scaler.transform(wash_grid_2020[features])\n",
    "\n",
    "wash_grid_2018['population'] = wash_grid_2018_['population']\n",
    "wash_grid_2020['population'] = wash_grid_2020_['population']\n",
    "\n",
    "# standardize naming\n",
    "to_replace = {'laguajira': 'la_guajira','valledelcauca': 'valle_del_cauca'}\n",
    "wash_grid_2018['adm1_name'] = wash_grid_2018['adm1_name'].replace(to_replace)\n",
    "wash_grid_2020['adm1_name'] = wash_grid_2020['adm1_name'].replace(to_replace)\n",
    "\n",
    "# get median for everything except population\n",
    "agg_type = {\n",
    "    'vegetation': 'median',\n",
    "    'aridity_cgiarv2': 'median',\n",
    "    'temperature': 'median',\n",
    "    'nighttime_lights': 'median',\n",
    "    'population': 'sum', ###\n",
    "    'elevation': 'median',\n",
    "    'urban_index': 'median',\n",
    "    'nearest_waterway': 'median',\n",
    "    'nearest_commercial': 'median',\n",
    "    'nearest_restaurant': 'median',\n",
    "    'nearest_hospital': 'median',\n",
    "    'nearest_airport': 'median',\n",
    "    'nearest_highway': 'median',\n",
    "    'perc_hh_no_water_supply': 'median',\n",
    "    'perc_hh_no_toilet': 'median',\n",
    "    'perc_hh_no_sewage': 'median',\n",
    "}\n",
    "wash_metro_2018 = wash_grid_2018.groupby(agg_level).agg(agg_type).reset_index()\n",
    "wash_metro_2020 = wash_grid_2020.groupby(agg_level).agg(agg_type).reset_index()\n",
    "\n",
    "# combine (wide format)\n",
    "wash_agg = pd.merge(\n",
    "    wash_metro_2018, wash_metro_2020, left_on = agg_level, right_on = agg_level, suffixes = ['', '_2020']\n",
    "    , how = 'left'\n",
    ")\n",
    "\n",
    "# convert to long\n",
    "df_ = wash_agg.set_index('adm1_name').stack().reset_index()\n",
    "df_.columns = ['adm1_name', 'feature', 'value']\n",
    "df_['year'] = 2018\n",
    "for i, row in df_.iterrows():\n",
    "    if row.feature[-5:] == '_2020':\n",
    "        df_.loc[i, 'year'] = 2020\n",
    "        df_.loc[i, 'feature'] = df_.loc[i, 'feature'][:-5]\n",
    "\n",
    "df_.to_csv('wash_agg.csv', index = False)\n",
    "df_.tail(3)"
   ]
  },
  {
   "cell_type": "code",
   "execution_count": null,
   "metadata": {
    "colab": {},
    "colab_type": "code",
    "id": "BZlqf7GO9kZP",
    "outputId": "dbd57f7a-b9fe-4664-81e1-2a1eac57ba0c"
   },
   "outputs": [
    {
     "data": {
      "text/plain": [
       "vegetation                          0.123851\n",
       "aridity_cgiarv2                     0.123958\n",
       "temperature                         0.091185\n",
       "nighttime_lights                   -0.081389\n",
       "population                      38136.793795\n",
       "elevation                          -0.403423\n",
       "urban_index                        -0.366667\n",
       "nearest_waterway                    0.101871\n",
       "nearest_commercial                  0.161975\n",
       "nearest_restaurant                  0.064027\n",
       "nearest_hospital                    0.086090\n",
       "nearest_airport                    -0.019912\n",
       "nearest_highway                     0.067636\n",
       "perc_hh_no_water_supply             0.006579\n",
       "perc_hh_no_toilet                   0.012558\n",
       "perc_hh_no_sewage                   0.038235\n",
       "vegetation_2020                    -0.004327\n",
       "aridity_cgiarv2_2020                0.116220\n",
       "temperature_2020                    0.213526\n",
       "nighttime_lights_2020              -0.075808\n",
       "population_2020                 47619.434995\n",
       "elevation_2020                     -0.402200\n",
       "urban_index_2020                   -0.433333\n",
       "nearest_waterway_2020               0.093855\n",
       "nearest_commercial_2020             0.148891\n",
       "nearest_restaurant_2020             0.075859\n",
       "nearest_hospital_2020               0.100950\n",
       "nearest_airport_2020                0.374163\n",
       "nearest_highway_2020                0.038834\n",
       "perc_hh_no_water_supply_2020        0.052655\n",
       "perc_hh_no_toilet_2020              0.041874\n",
       "perc_hh_no_sewage_2020              0.134644\n",
       "dtype: float64"
      ]
     },
     "execution_count": 34,
     "metadata": {
      "tags": []
     },
     "output_type": "execute_result"
    }
   ],
   "source": [
    "wash_agg.median()"
   ]
  },
  {
   "cell_type": "code",
   "execution_count": null,
   "metadata": {
    "colab": {},
    "colab_type": "code",
    "id": "oolTAzCp9kZV"
   },
   "outputs": [],
   "source": []
  },
  {
   "cell_type": "code",
   "execution_count": null,
   "metadata": {
    "colab": {},
    "colab_type": "code",
    "id": "MZpQzkk59kZZ"
   },
   "outputs": [],
   "source": []
  },
  {
   "cell_type": "code",
   "execution_count": null,
   "metadata": {
    "colab": {},
    "colab_type": "code",
    "id": "3_SZ3pdT9kZc"
   },
   "outputs": [],
   "source": []
  }
 ],
 "metadata": {
  "colab": {
   "collapsed_sections": [],
   "name": "20200916_Rollout.ipynb",
   "provenance": []
  },
  "environment": {
   "name": "common-cpu.m54",
   "type": "gcloud",
   "uri": "gcr.io/deeplearning-platform-release/base-cpu:m54"
  },
  "kernelspec": {
   "display_name": "Python 3",
   "language": "python",
   "name": "python3"
  },
  "language_info": {
   "codemirror_mode": {
    "name": "ipython",
    "version": 3
   },
   "file_extension": ".py",
   "mimetype": "text/x-python",
   "name": "python",
   "nbconvert_exporter": "python",
   "pygments_lexer": "ipython3",
   "version": "3.7.8"
  }
 },
 "nbformat": 4,
 "nbformat_minor": 4
}
