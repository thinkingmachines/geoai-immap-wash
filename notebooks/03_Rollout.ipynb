{
 "cells": [
  {
   "cell_type": "code",
   "execution_count": 16,
   "metadata": {
    "colab": {},
    "colab_type": "code",
    "id": "Zg7xzP4T9kYU"
   },
   "outputs": [],
   "source": [
    "year = 2020"
   ]
  },
  {
   "cell_type": "markdown",
   "metadata": {
    "colab_type": "text",
    "id": "SewNEuvE9kYT"
   },
   "source": [
    "This notebook predicts for the relevant year using the 2018 model, for both urban and rural areas."
   ]
  },
  {
   "cell_type": "markdown",
   "metadata": {},
   "source": [
    "## Imports and Setup"
   ]
  },
  {
   "cell_type": "code",
   "execution_count": 2,
   "metadata": {
    "colab": {},
    "colab_type": "code",
    "id": "5X7_TSil9kYa",
    "outputId": "911e8317-3f30-40bf-eb7e-d6ddf0e09be1"
   },
   "outputs": [
    {
     "name": "stderr",
     "output_type": "stream",
     "text": [
      "/opt/conda/lib/python3.7/site-packages/sklearn/externals/joblib/__init__.py:15: FutureWarning: sklearn.externals.joblib is deprecated in 0.21 and will be removed in 0.23. Please import this functionality directly from joblib, which can be installed with: pip install joblib. If this warning is raised when loading pickled models, you may need to re-serialize those models with scikit-learn 0.21+.\n",
      "  warnings.warn(msg, category=FutureWarning)\n"
     ]
    }
   ],
   "source": [
    "import re\n",
    "import numpy as np\n",
    "import pandas as pd\n",
    "from math import sqrt\n",
    "import geopandas as gpd\n",
    "import rasterio as rio\n",
    "from shapely.wkt import loads\n",
    "from tqdm import tqdm\n",
    "\n",
    "import sys\n",
    "sys.path.insert(0, '../utils')\n",
    "from settings import *\n",
    "import geoutils\n",
    "import modelutils"
   ]
  },
  {
   "cell_type": "markdown",
   "metadata": {},
   "source": [
    "## Download data from Cloud Storage"
   ]
  },
  {
   "cell_type": "code",
   "execution_count": null,
   "metadata": {
    "colab": {},
    "colab_type": "code",
    "id": "jBfgOP909kYk"
   },
   "outputs": [],
   "source": [
    "# !gsutil cp gs://immap-wash-training/grid/grids_in_urban_and_rural_areas.csv {data_dir}\n",
    "# !gsutil cp gs://immap-wash-training/features/2020_*.tif {feats_dir}\n",
    "# !gsutil cp gs://immap-wash-training/features/2019_*.tif {feats_dir}\n",
    "# !gsutil cp gs://immap-wash-training/features/2018_colombia_aridity_cgiarv2.tif {feats_dir}2020_colombia_aridity_cgiarv2.tif\n",
    "# !gsutil cp gs://immap-wash-training/features/2018_colombia_nearest_highway.tif {feats_dir}2020_colombia_nearest_highway.tif"
   ]
  },
  {
   "cell_type": "markdown",
   "metadata": {},
   "source": [
    "## Load grids for prediction"
   ]
  },
  {
   "cell_type": "code",
   "execution_count": null,
   "metadata": {},
   "outputs": [],
   "source": [
    "df = (pd.read_csv(data_dir + 'grids_in_urban_and_rural_areas.csv')\n",
    "      .sort_values(by = 'urbanity')\n",
    "      .drop_duplicates(subset = 'id', keep = 'last'))\n",
    "geom_col = 'centroid_geometry'\n",
    "df[geom_col] = df[geom_col].apply(loads)\n",
    "gdf = gpd.GeoDataFrame(df, geometry = geom_col)"
   ]
  },
  {
   "cell_type": "markdown",
   "metadata": {},
   "source": [
    "## Load 2018 data"
   ]
  },
  {
   "cell_type": "code",
   "execution_count": 12,
   "metadata": {
    "colab": {},
    "colab_type": "code",
    "id": "bTb6ZSmX9kYz",
    "outputId": "6fe6617e-5211-4a6b-f065-6e0ec2a59305"
   },
   "outputs": [
    {
     "name": "stdout",
     "output_type": "stream",
     "text": [
      "(57036, 45)\n"
     ]
    }
   ],
   "source": [
    "df = pd.read_csv(data_dir + '20200916_dataset.csv')\n",
    "df['population'] = df['population'].fillna(0)\n",
    "df = df.dropna().reset_index(drop = True)\n",
    "train_df = df.copy()\n",
    "print(train_df.shape)"
   ]
  },
  {
   "cell_type": "markdown",
   "metadata": {
    "colab_type": "text",
    "id": "sXoWLPV89kYs"
   },
   "source": [
    "## Generate data for particular year"
   ]
  },
  {
   "cell_type": "code",
   "execution_count": 19,
   "metadata": {
    "colab": {},
    "colab_type": "code",
    "id": "fk0-R2j19kYt",
    "outputId": "c806a409-cb0c-46d0-b286-208efabe8ff4"
   },
   "outputs": [
    {
     "name": "stderr",
     "output_type": "stream",
     "text": [
      "100%|██████████| 13/13 [03:39<00:00, 16.90s/it]\n"
     ]
    },
    {
     "name": "stdout",
     "output_type": "stream",
     "text": [
      "(67612, 41)\n",
      "Complete cases %: 100.0\n",
      "(67131, 41)\n"
     ]
    },
    {
     "data": {
      "text/html": [
       "<div>\n",
       "<style scoped>\n",
       "    .dataframe tbody tr th:only-of-type {\n",
       "        vertical-align: middle;\n",
       "    }\n",
       "\n",
       "    .dataframe tbody tr th {\n",
       "        vertical-align: top;\n",
       "    }\n",
       "\n",
       "    .dataframe thead th {\n",
       "        text-align: right;\n",
       "    }\n",
       "</style>\n",
       "<table border=\"1\" class=\"dataframe\">\n",
       "  <thead>\n",
       "    <tr style=\"text-align: right;\">\n",
       "      <th></th>\n",
       "      <th>pixelated_urban_area_id</th>\n",
       "      <th>id</th>\n",
       "      <th>geometry</th>\n",
       "      <th>urbanity</th>\n",
       "      <th>centroid_geometry</th>\n",
       "      <th>adm1_name</th>\n",
       "      <th>adm2_name</th>\n",
       "      <th>nearest_waterway</th>\n",
       "      <th>nearest_commercial</th>\n",
       "      <th>nearest_restaurant</th>\n",
       "      <th>...</th>\n",
       "      <th>lag_aridity_cgiarv2</th>\n",
       "      <th>lag_temperature</th>\n",
       "      <th>lag_nighttime_lights</th>\n",
       "      <th>lag_population</th>\n",
       "      <th>lag_elevation</th>\n",
       "      <th>lag_urban_index</th>\n",
       "      <th>lag_nearest_highway</th>\n",
       "      <th>nighttime_lights_area_mean</th>\n",
       "      <th>x</th>\n",
       "      <th>y</th>\n",
       "    </tr>\n",
       "  </thead>\n",
       "  <tbody>\n",
       "    <tr>\n",
       "      <th>0</th>\n",
       "      <td>NaN</td>\n",
       "      <td>25303605</td>\n",
       "      <td>POLYGON ((-74.4618779023438 5.4985334602661, -...</td>\n",
       "      <td>r</td>\n",
       "      <td>POINT (-74.46075 5.49741)</td>\n",
       "      <td>cundinamarca</td>\n",
       "      <td>caparrapi</td>\n",
       "      <td>1408.745117</td>\n",
       "      <td>40000.0</td>\n",
       "      <td>25372.031250</td>\n",
       "      <td>...</td>\n",
       "      <td>NaN</td>\n",
       "      <td>NaN</td>\n",
       "      <td>NaN</td>\n",
       "      <td>NaN</td>\n",
       "      <td>NaN</td>\n",
       "      <td>NaN</td>\n",
       "      <td>NaN</td>\n",
       "      <td>NaN</td>\n",
       "      <td>-74.460752</td>\n",
       "      <td>5.497407</td>\n",
       "    </tr>\n",
       "    <tr>\n",
       "      <th>1</th>\n",
       "      <td>NaN</td>\n",
       "      <td>25272300</td>\n",
       "      <td>POLYGON ((-74.47088690234379 5.4827677102661, ...</td>\n",
       "      <td>r</td>\n",
       "      <td>POINT (-74.46976 5.48164)</td>\n",
       "      <td>cundinamarca</td>\n",
       "      <td>caparrapi</td>\n",
       "      <td>2134.792480</td>\n",
       "      <td>40000.0</td>\n",
       "      <td>21935.181641</td>\n",
       "      <td>...</td>\n",
       "      <td>NaN</td>\n",
       "      <td>NaN</td>\n",
       "      <td>NaN</td>\n",
       "      <td>NaN</td>\n",
       "      <td>NaN</td>\n",
       "      <td>NaN</td>\n",
       "      <td>NaN</td>\n",
       "      <td>NaN</td>\n",
       "      <td>-74.469761</td>\n",
       "      <td>5.481642</td>\n",
       "    </tr>\n",
       "    <tr>\n",
       "      <th>2</th>\n",
       "      <td>NaN</td>\n",
       "      <td>21837755</td>\n",
       "      <td>POLYGON ((-75.45962465234379 1.0976369602661, ...</td>\n",
       "      <td>r</td>\n",
       "      <td>POINT (-75.45850 1.09651)</td>\n",
       "      <td>caquet</td>\n",
       "      <td>milan</td>\n",
       "      <td>3844.412842</td>\n",
       "      <td>40000.0</td>\n",
       "      <td>6694.293945</td>\n",
       "      <td>...</td>\n",
       "      <td>NaN</td>\n",
       "      <td>NaN</td>\n",
       "      <td>NaN</td>\n",
       "      <td>NaN</td>\n",
       "      <td>NaN</td>\n",
       "      <td>NaN</td>\n",
       "      <td>NaN</td>\n",
       "      <td>NaN</td>\n",
       "      <td>-75.458499</td>\n",
       "      <td>1.096511</td>\n",
       "    </tr>\n",
       "  </tbody>\n",
       "</table>\n",
       "<p>3 rows × 41 columns</p>\n",
       "</div>"
      ],
      "text/plain": [
       "   pixelated_urban_area_id        id  \\\n",
       "0                      NaN  25303605   \n",
       "1                      NaN  25272300   \n",
       "2                      NaN  21837755   \n",
       "\n",
       "                                            geometry urbanity  \\\n",
       "0  POLYGON ((-74.4618779023438 5.4985334602661, -...        r   \n",
       "1  POLYGON ((-74.47088690234379 5.4827677102661, ...        r   \n",
       "2  POLYGON ((-75.45962465234379 1.0976369602661, ...        r   \n",
       "\n",
       "           centroid_geometry     adm1_name  adm2_name  nearest_waterway  \\\n",
       "0  POINT (-74.46075 5.49741)  cundinamarca  caparrapi       1408.745117   \n",
       "1  POINT (-74.46976 5.48164)  cundinamarca  caparrapi       2134.792480   \n",
       "2  POINT (-75.45850 1.09651)        caquet      milan       3844.412842   \n",
       "\n",
       "   nearest_commercial  nearest_restaurant  ...  lag_aridity_cgiarv2  \\\n",
       "0             40000.0        25372.031250  ...                  NaN   \n",
       "1             40000.0        21935.181641  ...                  NaN   \n",
       "2             40000.0         6694.293945  ...                  NaN   \n",
       "\n",
       "   lag_temperature  lag_nighttime_lights  lag_population  lag_elevation  \\\n",
       "0              NaN                   NaN             NaN            NaN   \n",
       "1              NaN                   NaN             NaN            NaN   \n",
       "2              NaN                   NaN             NaN            NaN   \n",
       "\n",
       "   lag_urban_index  lag_nearest_highway  nighttime_lights_area_mean  \\\n",
       "0              NaN                  NaN                         NaN   \n",
       "1              NaN                  NaN                         NaN   \n",
       "2              NaN                  NaN                         NaN   \n",
       "\n",
       "           x         y  \n",
       "0 -74.460752  5.497407  \n",
       "1 -74.469761  5.481642  \n",
       "2 -75.458499  1.096511  \n",
       "\n",
       "[3 rows x 41 columns]"
      ]
     },
     "execution_count": 19,
     "metadata": {},
     "output_type": "execute_result"
    }
   ],
   "source": [
    "gdf = geoutils.generate_satellite_features(gdf, year = year)\n",
    "test_df = geoutils.generate_training_data(gdf)\n",
    "cols = ['id', 'geometry'] + poi_features + satellite_features\n",
    "print(test_df.shape)\n",
    "test_df = test_df.dropna(subset = cols)\n",
    "print('Complete cases %: ' + str(test_df.dropna(subset = cols).shape[0]/test_df.shape[0]*100))\n",
    "test_df.to_csv(data_dir + f'20200916_dataset_{year}.csv')\n",
    "# test_df = pd.read_csv(data_dir + f'20200916_dataset_{year}.csv')\n",
    "print(test_df.shape)\n",
    "test_df.head(3)"
   ]
  },
  {
   "cell_type": "markdown",
   "metadata": {
    "colab_type": "text",
    "id": "N-nWb-bQ9kYy"
   },
   "source": [
    "## Train full model on 2018"
   ]
  },
  {
   "cell_type": "code",
   "execution_count": 21,
   "metadata": {
    "colab": {},
    "colab_type": "code",
    "id": "XKpPWafP9kY7",
    "outputId": "35b1d180-8a5c-41c9-d01c-73b115aebb89"
   },
   "outputs": [
    {
     "name": "stderr",
     "output_type": "stream",
     "text": [
      "100%|██████████| 3/3 [00:14<00:00,  4.93s/it]\n"
     ]
    }
   ],
   "source": [
    "test_df, top_features = modelutils.model_rollout(train_df, test_df)"
   ]
  },
  {
   "cell_type": "markdown",
   "metadata": {},
   "source": [
    "## Save outputs to local"
   ]
  },
  {
   "cell_type": "code",
   "execution_count": null,
   "metadata": {},
   "outputs": [],
   "source": [
    "top_features.to_csv('top_features_2018.csv', index = False)\n",
    "test_df.to_csv(data_dir + f'20200916_predictions{year}.csv', index = False)"
   ]
  },
  {
   "cell_type": "code",
   "execution_count": null,
   "metadata": {
    "colab": {},
    "colab_type": "code",
    "id": "oolTAzCp9kZV"
   },
   "outputs": [],
   "source": []
  },
  {
   "cell_type": "code",
   "execution_count": null,
   "metadata": {
    "colab": {},
    "colab_type": "code",
    "id": "MZpQzkk59kZZ"
   },
   "outputs": [],
   "source": []
  },
  {
   "cell_type": "code",
   "execution_count": null,
   "metadata": {
    "colab": {},
    "colab_type": "code",
    "id": "3_SZ3pdT9kZc"
   },
   "outputs": [],
   "source": []
  }
 ],
 "metadata": {
  "colab": {
   "collapsed_sections": [],
   "name": "20200916_Rollout.ipynb",
   "provenance": []
  },
  "environment": {
   "name": "common-cpu.m54",
   "type": "gcloud",
   "uri": "gcr.io/deeplearning-platform-release/base-cpu:m54"
  },
  "kernelspec": {
   "display_name": "Python 3",
   "language": "python",
   "name": "python3"
  },
  "language_info": {
   "codemirror_mode": {
    "name": "ipython",
    "version": 3
   },
   "file_extension": ".py",
   "mimetype": "text/x-python",
   "name": "python",
   "nbconvert_exporter": "python",
   "pygments_lexer": "ipython3",
   "version": "3.7.8"
  }
 },
 "nbformat": 4,
 "nbformat_minor": 4
}
