{
 "cells": [
  {
   "cell_type": "code",
   "execution_count": 1,
   "metadata": {
    "colab": {},
    "colab_type": "code",
    "id": "Zg7xzP4T9kYU"
   },
   "outputs": [],
   "source": [
    "year = 2018"
   ]
  },
  {
   "cell_type": "markdown",
   "metadata": {
    "colab_type": "text",
    "id": "SewNEuvE9kYT"
   },
   "source": [
    "This notebook predicts for the relevant year using the 2018 model, for both urban and rural areas."
   ]
  },
  {
   "cell_type": "markdown",
   "metadata": {},
   "source": [
    "## Imports and Setup"
   ]
  },
  {
   "cell_type": "code",
   "execution_count": 2,
   "metadata": {
    "colab": {},
    "colab_type": "code",
    "id": "5X7_TSil9kYa",
    "outputId": "911e8317-3f30-40bf-eb7e-d6ddf0e09be1"
   },
   "outputs": [],
   "source": [
    "import re\n",
    "import numpy as np\n",
    "import pandas as pd\n",
    "from math import sqrt\n",
    "import geopandas as gpd\n",
    "import rasterio as rio\n",
    "from shapely.wkt import loads\n",
    "from tqdm import tqdm\n",
    "from datetime import datetime, timedelta\n",
    "from joblib import Parallel, delayed\n",
    "from itertools import repeat\n",
    "import os\n",
    "\n",
    "# ignore warnings\n",
    "import logging\n",
    "import warnings\n",
    "logging.getLogger().setLevel(logging.ERROR)\n",
    "warnings.filterwarnings(\"ignore\")\n",
    "\n",
    "import sys\n",
    "sys.path.insert(0, '../utils')\n",
    "from settings import *\n",
    "import geoutils\n",
    "import modelutils"
   ]
  },
  {
   "cell_type": "markdown",
   "metadata": {},
   "source": [
    "## Set directories"
   ]
  },
  {
   "cell_type": "code",
   "execution_count": 3,
   "metadata": {},
   "outputs": [],
   "source": [
    "dept_dir = data_dir + 'by_dept/'\n",
    "grid250_dir = dept_dir + 'grid_250x250m/'\n",
    "feats250_dir = dept_dir + 'features/'\n",
    "preds250_dir = dept_dir + 'predictions/'"
   ]
  },
  {
   "cell_type": "markdown",
   "metadata": {},
   "source": [
    "## Download data from Cloud Storage"
   ]
  },
  {
   "cell_type": "code",
   "execution_count": 10,
   "metadata": {
    "colab": {},
    "colab_type": "code",
    "id": "jBfgOP909kYk"
   },
   "outputs": [],
   "source": [
    "!gsutil -m rsync -r gs://immap-wash-training/grid/grid_250x250m/ {grid250_dir}\n",
    "!gsutil cp gs://immap-wash-training/grid/grid_250x250m_wadmin.csv {data_dir}\n",
    "!gsutil cp gs://immap-wash-training/grid/grids_in_urban_and_rural_areas.csv {data_dir}\n",
    "!gsutil cp gs://immap-wash-training/features/2020_*.tif {feats_dir}\n",
    "!gsutil cp gs://immap-wash-training/features/2019_*.tif {feats_dir}\n",
    "!gsutil cp gs://immap-wash-training/features/2018_colombia_aridity_cgiarv2.tif {feats_dir}2020_colombia_aridity_cgiarv2.tif\n",
    "!gsutil cp gs://immap-wash-training/features/2018_colombia_nearest_highway.tif {feats_dir}2020_colombia_nearest_highway.tif"
   ]
  },
  {
   "cell_type": "markdown",
   "metadata": {},
   "source": [
    "## Get list of admin bounds to iterate over"
   ]
  },
  {
   "cell_type": "code",
   "execution_count": 4,
   "metadata": {},
   "outputs": [],
   "source": [
    "adm1s = ['amazonas', 'antioquia', 'arauca', 'atlntico', 'bogot_dc', 'bolvar', 'boyac', 'caldas', 'caquet', 'casanare', 'cauca', 'cesar', 'choc', 'crdoba', 'cundinamarca', 'guaina', 'guaviare', 'huila', 'la_guajira', 'magdalena', 'meta', 'nario', 'norte_de_santander', 'putumayo', 'quindo', 'risaralda', 'san_andrs_y_providencia', 'santander', 'sucre', 'tolima', 'valle_del_cauca', 'vaups', 'vichada']\n",
    "#adm1s = list(set(adm1s) - {'amazonas', 'bogot_dc'})\n",
    "adm1s.sort()"
   ]
  },
  {
   "cell_type": "markdown",
   "metadata": {},
   "source": [
    "## Load 2018 data"
   ]
  },
  {
   "cell_type": "code",
   "execution_count": 5,
   "metadata": {
    "colab": {},
    "colab_type": "code",
    "id": "bTb6ZSmX9kYz",
    "outputId": "6fe6617e-5211-4a6b-f065-6e0ec2a59305"
   },
   "outputs": [
    {
     "name": "stdout",
     "output_type": "stream",
     "text": [
      "(57036, 45)\n"
     ]
    }
   ],
   "source": [
    "df = pd.read_csv(data_dir + '20200916_dataset.csv')\n",
    "train_df = df.copy()\n",
    "print(train_df.shape)"
   ]
  },
  {
   "cell_type": "markdown",
   "metadata": {},
   "source": [
    "## Rollout by department chunk (takes 24 hours)"
   ]
  },
  {
   "cell_type": "markdown",
   "metadata": {},
   "source": [
    "For each department, predict on 30K rows (chunk) at a time"
   ]
  },
  {
   "cell_type": "code",
   "execution_count": null,
   "metadata": {},
   "outputs": [
    {
     "name": "stderr",
     "output_type": "stream",
     "text": [
      "  0%|          | 0/33 [00:00<?, ?it/s]\n",
      "0it [00:00, ?it/s]\u001b[A\n",
      "1it [02:04, 124.77s/it]\u001b[A\n",
      "2it [04:11, 125.31s/it]\u001b[A\n",
      "3it [06:14, 124.72s/it]\u001b[A"
     ]
    }
   ],
   "source": [
    "for adm1 in tqdm(adm1s):\n",
    "    try:\n",
    "        modelutils.predict_by_chunk(adm1)\n",
    "    except:\n",
    "        f = open(preds250_dir + f'failed-{adm1}.txt', 'w')\n",
    "        f.close()"
   ]
  },
  {
   "cell_type": "markdown",
   "metadata": {},
   "source": [
    "## Combine chunks to one raster (takes 1h30m)"
   ]
  },
  {
   "cell_type": "markdown",
   "metadata": {},
   "source": [
    "For All departments Amazonas took 7mins"
   ]
  },
  {
   "cell_type": "code",
   "execution_count": 6,
   "metadata": {},
   "outputs": [
    {
     "name": "stderr",
     "output_type": "stream",
     "text": [
      "100%|██████████| 33/33 [1:41:16<00:00, 184.13s/it]\n"
     ]
    }
   ],
   "source": [
    "for adm1 in tqdm(adm1s):\n",
    "    modelutils.gpkgs_to_raster(adm1, verbose = False)"
   ]
  },
  {
   "cell_type": "markdown",
   "metadata": {},
   "source": [
    "## Copy to gcs folder"
   ]
  },
  {
   "cell_type": "code",
   "execution_count": 4,
   "metadata": {},
   "outputs": [
    {
     "name": "stderr",
     "output_type": "stream",
     "text": [
      "100%|██████████| 99/99 [03:39<00:00,  2.22s/it]\n"
     ]
    }
   ],
   "source": [
    "outnames = [\n",
    "    fname for fname in os.listdir(preds250_dir) \n",
    "    if '.tif' in fname\n",
    "]\n",
    "outnames.sort()\n",
    "\n",
    "for outname in tqdm(outnames):\n",
    "    !gsutil -q cp {preds250_dir}{outname} gs://immap-output/20201008/"
   ]
  },
  {
   "cell_type": "code",
   "execution_count": null,
   "metadata": {},
   "outputs": [],
   "source": []
  },
  {
   "cell_type": "code",
   "execution_count": 40,
   "metadata": {},
   "outputs": [],
   "source": []
  },
  {
   "cell_type": "code",
   "execution_count": null,
   "metadata": {
    "colab": {},
    "colab_type": "code",
    "id": "MZpQzkk59kZZ"
   },
   "outputs": [],
   "source": []
  },
  {
   "cell_type": "code",
   "execution_count": null,
   "metadata": {
    "colab": {},
    "colab_type": "code",
    "id": "3_SZ3pdT9kZc"
   },
   "outputs": [],
   "source": []
  }
 ],
 "metadata": {
  "colab": {
   "collapsed_sections": [],
   "name": "20200916_Rollout.ipynb",
   "provenance": []
  },
  "environment": {
   "name": "common-cpu.m54",
   "type": "gcloud",
   "uri": "gcr.io/deeplearning-platform-release/base-cpu:m54"
  },
  "kernelspec": {
   "display_name": "Python 3",
   "language": "python",
   "name": "python3"
  },
  "language_info": {
   "codemirror_mode": {
    "name": "ipython",
    "version": 3
   },
   "file_extension": ".py",
   "mimetype": "text/x-python",
   "name": "python",
   "nbconvert_exporter": "python",
   "pygments_lexer": "ipython3",
   "version": "3.7.8"
  }
 },
 "nbformat": 4,
 "nbformat_minor": 4
}
